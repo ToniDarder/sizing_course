{
 "cells": [
  {
   "cell_type": "markdown",
   "metadata": {
    "slideshow": {
     "slide_type": "slide"
    }
   },
   "source": [
    "<img src=\"./pictures/logo_sizinglab.png\" style=\"float:right; max-width: 60px; display: inline\" alt=\"SizingLab\" /></a>"
   ]
  },
  {
   "cell_type": "markdown",
   "metadata": {
    "slideshow": {
     "slide_type": "slide"
    }
   },
   "source": [
    "# Propeller selection\n",
    "*Written by Marc Budinger (INSA Toulouse), Scott Delbecq (ISAE-SUPAERO) and Félix Pollet (ISAE-SUPAERO), Toulouse, France.*"
   ]
  },
  {
   "cell_type": "markdown",
   "metadata": {
    "slideshow": {
     "slide_type": "slide"
    }
   },
   "source": [
    "## Design graph \n",
    "\n",
    "The following diagram represents the design graph of the propeller’s selection. The max thrust is assumed to be known here.\n",
    "\n",
    "\n",
    "```{figure} ./assets/design_graphs/DesignGraphs_propeller.svg\n",
    ":name: design_graph_propeller\n",
    ":align: center\n",
    ":width: 50%\n",
    "\n",
    "Propeller design graph\n",
    "```\n",
    "\n",
    "The design graphs for the overall drone system can be found in [here](./assets/design_graphs/DesignGraphs_Overall_Solution.pdf).\n"
   ]
  },
  {
   "cell_type": "markdown",
   "metadata": {},
   "source": [
    "### Sizing code\n"
   ]
  },
  {
   "cell_type": "code",
   "execution_count": 13,
   "metadata": {
    "tags": []
   },
   "outputs": [],
   "source": [
    "import numpy as np\n",
    "\n",
    "# Specifications\n",
    "rho_air=1.18# [kg/m^3] Air density\n",
    "ND_max=105000./60.*.0254 #[Hz.m] Max speed limit (N.D max) for APC MR propellers\n",
    "\n",
    "# Reference parameters for scaling laws\n",
    "D_pro_ref=11.*.0254# [m] Reference propeller diameter\n",
    "M_pro_ref=0.53*0.0283# [kg] Reference propeller mass\n",
    "\n",
    "# Assumptions\n",
    "F_pro_to=15.0 #[N] Thrust for 1 propeller during Take Off\n",
    "F_pro_hov=5.0 #[N] Thrust for 1 propeller during hover\n",
    "\n",
    "# Design variables\n",
    "beta_pro = 0.33 # pitch/diameter ratio of the propeller\n",
    "k_ND = 1.2 # slow down propeller coef : ND = NDmax / k_ND"
   ]
  },
  {
   "cell_type": "code",
   "execution_count": 14,
   "metadata": {
    "tags": []
   },
   "outputs": [],
   "source": [
    "# Equations\n",
    "\n",
    "# Estimation models for propeller aerodynamics\n",
    "C_t = 4.27e-02 + 1.44e-01 * beta_pro  # Thrust coef with T=C_T.rho.n^2.D^4\n",
    "C_p = -1.48e-03 + 9.72e-02 * beta_pro  # Power coef with P=C_p.rho.n^3.D^5\n",
    "\n",
    "# Propeller selection with take-off scenario\n",
    "D_pro = (F_pro_to / (C_t*rho_air*(ND_max/k_ND)**2.))**0.5  # [m] Propeller diameter\n",
    "n_pro_to = ND_max / k_ND / D_pro  # [Hz] Propeller speed \n",
    "Omega_pro_to = n_pro_to * 2*np.pi  # [rad/s] Propeller speed\n",
    "\n",
    "# Estimation model for mass\n",
    "M_pro = M_pro_ref * (D_pro/D_pro_ref)**2. # [kg] Propeller mass\n",
    "\n",
    "# Performance in various operating conditions\n",
    "# Take-off\n",
    "P_pro_to = C_p * rho_air * n_pro_to**3. * D_pro**5. # [W] Power per propeller\n",
    "T_pro_to = P_pro_to / Omega_pro_to # [N*m] Propeller torque\n",
    "# Hover\n",
    "n_pro_hov = np.sqrt(F_pro_hov/(C_t * rho_air *D_pro**4.)) # [Hz] hover speed\n",
    "Omega_pro_hov = n_pro_hov * 2.*np.pi # [rad/s] Propeller speed\n",
    "P_pro_hov = C_p * rho_air * n_pro_hov**3. * D_pro**5. # [W] Power per propeller\n",
    "T_pro_hov = P_pro_hov / Omega_pro_hov # [N*m] Propeller torque   "
   ]
  },
  {
   "cell_type": "code",
   "execution_count": 15,
   "metadata": {
    "tags": []
   },
   "outputs": [
    {
     "name": "stdout",
     "output_type": "stream",
     "text": [
      "Variable        Type       Data/Info\n",
      "------------------------------------\n",
      "C_p             float      0.030596\n",
      "C_t             float      0.09022\n",
      "D_pro           float      0.3204517851291232\n",
      "D_pro_ref       float      0.2794\n",
      "F_pro_hov       float      5.0\n",
      "F_pro_to        float      15.0\n",
      "M_pro           float      0.019730354665561008\n",
      "M_pro_ref       float      0.014999\n",
      "ND_max          float      44.449999999999996\n",
      "Omega_pro_hov   float64    419.3214365967957\n",
      "Omega_pro_to    float      726.2860328884217\n",
      "P_pro_hov       float64    36.262832648239105\n",
      "P_pro_to        float      188.42720571935266\n",
      "T_pro_hov       float64    0.08647979684164854\n",
      "T_pro_to        float      0.2594393905249455\n",
      "beta_pro        float      0.33\n",
      "k_ND            float      1.2\n",
      "n_pro_hov       float64    66.73707937877482\n",
      "n_pro_to        float      115.59201223279518\n",
      "np              module     <module 'numpy' from 'C:\\<...>ges\\\\numpy\\\\__init__.py'>\n",
      "rho_air         float      1.18\n"
     ]
    }
   ],
   "source": [
    "%whos"
   ]
  },
  {
   "cell_type": "code",
   "execution_count": null,
   "metadata": {},
   "outputs": [],
   "source": []
  }
 ],
 "metadata": {
  "kernelspec": {
   "display_name": "Python 3 (ipykernel)",
   "language": "python",
   "name": "python3"
  },
  "language_info": {
   "codemirror_mode": {
    "name": "ipython",
    "version": 3
   },
   "file_extension": ".py",
   "mimetype": "text/x-python",
   "name": "python",
   "nbconvert_exporter": "python",
   "pygments_lexer": "ipython3",
   "version": "3.9.18"
  }
 },
 "nbformat": 4,
 "nbformat_minor": 4
}
