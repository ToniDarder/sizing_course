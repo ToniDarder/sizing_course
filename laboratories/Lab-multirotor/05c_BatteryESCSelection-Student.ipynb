{
 "cells": [
  {
   "cell_type": "markdown",
   "metadata": {
    "slideshow": {
     "slide_type": "slide"
    }
   },
   "source": [
    "<img src=\"./pictures/logo_sizinglab.png\" style=\"float:right; max-width: 60px; display: inline\" alt=\"SizingLab\" /></a>"
   ]
  },
  {
   "cell_type": "markdown",
   "metadata": {
    "slideshow": {
     "slide_type": "slide"
    }
   },
   "source": [
    "# Battery and ESC selection\n",
    "*Written by Marc Budinger (INSA Toulouse), Scott Delbecq (ISAE-SUPAERO) and Félix Pollet (ISAE-SUPAERO), Toulouse, France.*"
   ]
  },
  {
   "cell_type": "markdown",
   "metadata": {
    "slideshow": {
     "slide_type": "slide"
    }
   },
   "source": [
    "## Design graph \n",
    "\n",
    "The following diagrams represent the design graphs of the battery and ESC selection.\n",
    "\n",
    "\n",
    "\n",
    "```{figure} ./assets/design_graphs/DesignGraphs_battery_student.svg\n",
    ":name: design_graph_battery_student\n",
    ":align: center\n",
    ":width: 50%\n",
    "\n",
    "Battery design graph\n",
    "```\n",
    "\n",
    "```{figure} ./assets/design_graphs/DesignGraphs_esc_student.svg\n",
    ":name: design_graph_esc_student\n",
    ":align: center\n",
    ":width: 50%\n",
    "\n",
    "ESC design graph\n",
    "```\n",
    "\n",
    "\n",
    "```{exercise}\n",
    ":label: exercice_dg_battery_esc\n",
    "\n",
    "- Give the main sizing problems you are able to detect.\n",
    "- Propose one or multiple solutions (which can request equation manipulation, addition of design variables, addition of constraints) \n",
    "- Orientate the arrows\n",
    "- Give equations order, inputs/outputs at each step of this part of sizing procedure\n",
    "\n",
    "```\n"
   ]
  },
  {
   "cell_type": "markdown",
   "metadata": {},
   "source": [
    "### Sizing code\n",
    "\n",
    "\n",
    "```{exercise}\n",
    ":label: exercice_dg_esc_bat\n",
    "\n",
    "Propose a sizing code for the ESC and battery\n",
    "\n",
    "```\n"
   ]
  },
  {
   "cell_type": "code",
   "execution_count": null,
   "metadata": {},
   "outputs": [],
   "source": [
    "# Specifications\n",
    "N_pro=4.0 # [-] Number of propellers\n",
    "M_pay=1.0 # [kg] Payload mass\n",
    "nu_esc = 0.95 # [–] ESC efficiency\n",
    "\n",
    "# Reference parameters for scaling laws\n",
    "# Ref : MK-quadro\n",
    "M_bat_ref = .329 # [kg] mass\n",
    "E_bat_ref = 220.*3600.*.329 # [J]\n",
    "C_bat_ref= 5 # [Ah] Capacity\n",
    "I_bat_max_ref = 50*C_bat_ref # [A] max discharge current\n",
    "\n",
    "# Ref : Turnigy K_Force 70HV \n",
    "P_esc_ref = 3108. # [W] Power\n",
    "M_esc_ref = .115 # [kg] Mass\n",
    "\n",
    "# Assumptions\n",
    "U_bat_est=14.0 # [V] Battery voltage estimation\n",
    "P_el_mot_hov=10.0 # [W] Electrical power consumption for one motor during hover\n",
    "P_el_mot_to=30.0 # [W] Electrical power consumption for one motor during takeoff\n",
    "U_mot_to=12.0 # [V] Motor voltage during takeoff\n",
    "\n",
    "# Design variables\n",
    "\n",
    "## To be completed"
   ]
  },
  {
   "cell_type": "code",
   "execution_count": null,
   "metadata": {},
   "outputs": [],
   "source": [
    "# Equations\n",
    "\n",
    "## To be completed"
   ]
  },
  {
   "cell_type": "code",
   "execution_count": 1,
   "metadata": {
    "tags": []
   },
   "outputs": [
    {
     "name": "stdout",
     "output_type": "stream",
     "text": [
      "Interactive namespace is empty.\n"
     ]
    }
   ],
   "source": [
    "%whos"
   ]
  },
  {
   "cell_type": "code",
   "execution_count": null,
   "metadata": {},
   "outputs": [],
   "source": []
  }
 ],
 "metadata": {
  "kernelspec": {
   "display_name": "Python 3 (ipykernel)",
   "language": "python",
   "name": "python3"
  },
  "language_info": {
   "codemirror_mode": {
    "name": "ipython",
    "version": 3
   },
   "file_extension": ".py",
   "mimetype": "text/x-python",
   "name": "python",
   "nbconvert_exporter": "python",
   "pygments_lexer": "ipython3",
   "version": "3.9.18"
  }
 },
 "nbformat": 4,
 "nbformat_minor": 4
}
