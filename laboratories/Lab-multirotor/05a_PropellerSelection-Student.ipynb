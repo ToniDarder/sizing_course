{
 "cells": [
  {
   "cell_type": "markdown",
   "metadata": {
    "slideshow": {
     "slide_type": "slide"
    }
   },
   "source": [
    "<img src=\"./pictures/logo_sizinglab.png\" style=\"float:right; max-width: 60px; display: inline\" alt=\"SizingLab\" /></a>"
   ]
  },
  {
   "cell_type": "markdown",
   "metadata": {
    "slideshow": {
     "slide_type": "slide"
    }
   },
   "source": [
    "# Propeller selection\n",
    "*Written by Marc Budinger (INSA Toulouse), Scott Delbecq (ISAE-SUPAERO) and Félix Pollet (ISAE-SUPAERO), Toulouse, France.*"
   ]
  },
  {
   "cell_type": "markdown",
   "metadata": {
    "slideshow": {
     "slide_type": "slide"
    }
   },
   "source": [
    "## Design graph \n",
    "\n",
    "The following diagram represents the design graph of the propeller’s selection. The max thrust is assumed to be known here.\n",
    "\n",
    "```{figure} ./assets/design_graphs/DesignGraphs_propeller_student.svg\n",
    ":name: design_graph_propeller_student\n",
    ":align: center\n",
    ":width: 50%\n",
    "\n",
    "Propeller design graph\n",
    "```\n",
    "\n",
    "```{exercise}\n",
    ":label: exercice_propeller_eq\n",
    "\n",
    "- Give the main sizing problems you are able to detect.\n",
    "- Propose one or multiple solutions (which can request equation manipulation, addition of design variables, addition of constraints) \n",
    "- Orientate the arrows\n",
    "- Give equations order, inputs/outputs at each step of this part of sizing procedure\n",
    "\n",
    "```\n"
   ]
  },
  {
   "cell_type": "markdown",
   "metadata": {},
   "source": [
    "### Sizing code\n",
    "\n",
    "\n",
    "```{exercise}\n",
    ":label: exercice_dg_propeller\n",
    "\n",
    "Propose a sizing code for the propeller\n",
    "\n",
    "```"
   ]
  },
  {
   "cell_type": "code",
   "execution_count": null,
   "metadata": {},
   "outputs": [],
   "source": [
    "import numpy as np\n",
    "\n",
    "# Specifications\n",
    "rho_air = 1.18  # [kg/m^3] Air density\n",
    "ND_max = 105000.0 / 60.0 * 0.0254  # [Hz.m] Max speed limit (N.D max) for APC MR propellers\n",
    "\n",
    "# Reference parameters for scaling laws\n",
    "D_pro_ref = 11.0 * 0.0254  # [m] Reference propeller diameter\n",
    "M_pro_ref = 0.53 * 0.0283  # [kg] Reference propeller mass\n",
    "\n",
    "# Assumptions\n",
    "F_pro_to = 15.0  # [N] Thrust for 1 propeller during Take Off\n",
    "F_pro_hov = 5.0  # [N] Thrust for 1 propeller during hover\n",
    "\n",
    "# Design variables\n",
    "\n",
    "## To be completed"
   ]
  },
  {
   "cell_type": "code",
   "execution_count": null,
   "metadata": {},
   "outputs": [],
   "source": [
    "# Equations\n",
    "## To be completed"
   ]
  },
  {
   "cell_type": "code",
   "execution_count": null,
   "metadata": {},
   "outputs": [],
   "source": [
    "%whos"
   ]
  }
 ],
 "metadata": {
  "kernelspec": {
   "display_name": "Python 3 (ipykernel)",
   "language": "python",
   "name": "python3"
  },
  "language_info": {
   "codemirror_mode": {
    "name": "ipython",
    "version": 3
   },
   "file_extension": ".py",
   "mimetype": "text/x-python",
   "name": "python",
   "nbconvert_exporter": "python",
   "pygments_lexer": "ipython3",
   "version": "3.9.18"
  }
 },
 "nbformat": 4,
 "nbformat_minor": 4
}
