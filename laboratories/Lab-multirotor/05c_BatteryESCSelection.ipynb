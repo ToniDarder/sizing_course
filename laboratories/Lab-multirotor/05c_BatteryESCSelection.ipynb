{
 "cells": [
  {
   "cell_type": "markdown",
   "metadata": {
    "slideshow": {
     "slide_type": "slide"
    }
   },
   "source": [
    "<img src=\"./pictures/logo_sizinglab.png\" style=\"float:right; max-width: 60px; display: inline\" alt=\"SizingLab\" /></a>"
   ]
  },
  {
   "cell_type": "markdown",
   "metadata": {
    "slideshow": {
     "slide_type": "slide"
    }
   },
   "source": [
    "# Battery and ESC selection\n",
    "*Written by Marc Budinger (INSA Toulouse), Scott Delbecq (ISAE-SUPAERO) and Félix Pollet (ISAE-SUPAERO), Toulouse, France.*"
   ]
  },
  {
   "cell_type": "markdown",
   "metadata": {
    "slideshow": {
     "slide_type": "slide"
    }
   },
   "source": [
    "## Design graph \n",
    "\n",
    "The following diagrams represent the design graphs of the battery and ESC selection.\n",
    "\n",
    "```{figure} ./assets/design_graphs/DesignGraphs_battery.svg\n",
    ":name: design_graph_batter\n",
    ":align: center\n",
    ":width: 50%\n",
    "\n",
    "Battery design graph\n",
    "```\n",
    "\n",
    "```{figure} ./assets/design_graphs/DesignGraphs_esc.svg\n",
    ":name: design_graph_esc\n",
    ":align: center\n",
    ":width: 50%\n",
    "\n",
    "ESC design graph\n",
    "```\n",
    "\n",
    "The design graphs for the overall drone system can be found in [here](./assets/design_graphs/DesignGraphs_Overall_Solution.pdf).\n"
   ]
  },
  {
   "cell_type": "markdown",
   "metadata": {},
   "source": [
    "### Sizing code\n"
   ]
  },
  {
   "cell_type": "code",
   "execution_count": 5,
   "metadata": {},
   "outputs": [],
   "source": [
    "# Specifications\n",
    "N_pro=4.0 # [-] Number of propellers\n",
    "M_pay=1.0 # [kg] Payload mass\n",
    "nu_esc = 0.95 # [–] ESC efficiency\n",
    "\n",
    "# Reference parameters for scaling laws\n",
    "# Ref : MK-quadro\n",
    "M_bat_ref = .329 # [kg] mass\n",
    "E_bat_ref = 220.*3600.*.329 # [J]\n",
    "C_bat_ref= 5 # [Ah] Capacity\n",
    "I_bat_max_ref = 50*C_bat_ref # [A] max discharge current\n",
    "\n",
    "# Ref : Turnigy K_Force 70HV \n",
    "P_esc_ref = 3108. # [W] Power\n",
    "M_esc_ref = .115 # [kg] Mass\n",
    "\n",
    "# Assumptions\n",
    "U_bat_est=14.0 # [V] Battery voltage estimation\n",
    "P_el_mot_hov=10.0 # [W] Electrical power consumption for one motor during hover\n",
    "P_el_mot_to=30.0 # [W] Electrical power consumption for one motor during takeoff\n",
    "U_mot_to=12.0 # [V] Motor voltage during takeoff\n",
    "\n",
    "# Design variables\n",
    "k_vb = 1. # oversizing coefficient for voltage evaluation\n",
    "k_mb = 1. # ratio battery/load mass"
   ]
  },
  {
   "cell_type": "code",
   "execution_count": 6,
   "metadata": {},
   "outputs": [],
   "source": [
    "# Equations\n",
    "\n",
    "# Voltage selection with takeoff scenario\n",
    "U_bat = k_vb*1.84*P_el_mot_to**(0.36)  # [V] battery voltage estimation\n",
    "\n",
    "# Energy selection with payload mass\n",
    "M_bat = k_mb * M_pay  # [kg] Battery mass\n",
    "E_bat = E_bat_ref * M_bat/M_bat_ref * .8  # [J] Energy  of the battery (.8 coefficient because 80% use only of the total capacity)\n",
    "\n",
    "# Estimation models\n",
    "C_bat = E_bat/U_bat # [A*s] Capacity  of the battery \n",
    "I_bat_max = I_bat_max_ref * (C_bat/C_bat_ref)  # [A] Max discharge current\n",
    "P_bat_max = U_bat * I_bat_max  # [W] Max power\n",
    "\n",
    "# Performance in hover\n",
    "I_bat_hov = (P_el_mot_hov * N_pro) / nu_esc / U_bat  # [A] Current of the battery\n",
    "\n",
    "\n",
    "#% ESC\n",
    "# ---\n",
    "# Power selection with takeoff scenario\n",
    "P_esc = P_el_mot_to * U_bat / U_mot_to  # [W] power electronic power (corner power or apparent power)\n",
    "\n",
    "# Estimation models\n",
    "U_esc = 1.84 * P_esc**0.36  # [V] ESC voltage     \n",
    "M_esc = M_esc_ref * (P_esc/P_esc_ref)  # [kg] Mass ESC\n"
   ]
  },
  {
   "cell_type": "code",
   "execution_count": 7,
   "metadata": {
    "tags": []
   },
   "outputs": [
    {
     "name": "stdout",
     "output_type": "stream",
     "text": [
      "Variable        Type     Data/Info\n",
      "----------------------------------\n",
      "C_bat           float    101212.39316709602\n",
      "C_bat_ref       int      5\n",
      "E_bat           float    633600.0\n",
      "E_bat_ref       float    260568.0\n",
      "I_bat_hov       float    6.725969774527912\n",
      "I_bat_max       float    5060619.658354801\n",
      "I_bat_max_ref   int      250\n",
      "M_bat           float    1.0\n",
      "M_bat_ref       float    0.329\n",
      "M_esc           float    0.0005790796638241396\n",
      "M_esc_ref       float    0.115\n",
      "M_pay           float    1.0\n",
      "N_pro           float    4.0\n",
      "P_bat_max       float    31680000.0\n",
      "P_el_mot_hov    float    10.0\n",
      "P_el_mot_to     float    30.0\n",
      "P_esc           float    15.650257349264573\n",
      "P_esc_ref       float    3108.0\n",
      "U_bat           float    6.260102939705829\n",
      "U_bat_est       float    14.0\n",
      "U_esc           float    4.952740310797201\n",
      "U_mot_to        float    12.0\n",
      "k_mb            float    1.0\n",
      "k_vb            float    1.0\n",
      "nu_esc          float    0.95\n"
     ]
    }
   ],
   "source": [
    "%whos"
   ]
  },
  {
   "cell_type": "code",
   "execution_count": null,
   "metadata": {},
   "outputs": [],
   "source": []
  }
 ],
 "metadata": {
  "kernelspec": {
   "display_name": "Python 3 (ipykernel)",
   "language": "python",
   "name": "python3"
  },
  "language_info": {
   "codemirror_mode": {
    "name": "ipython",
    "version": 3
   },
   "file_extension": ".py",
   "mimetype": "text/x-python",
   "name": "python",
   "nbconvert_exporter": "python",
   "pygments_lexer": "ipython3",
   "version": "3.9.18"
  }
 },
 "nbformat": 4,
 "nbformat_minor": 4
}
