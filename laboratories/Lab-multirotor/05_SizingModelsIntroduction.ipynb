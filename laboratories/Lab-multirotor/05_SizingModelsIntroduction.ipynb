{
 "cells": [
  {
   "cell_type": "markdown",
   "metadata": {
    "slideshow": {
     "slide_type": "slide"
    }
   },
   "source": [
    "<img src=\"./pictures/logo_sizinglab.png\" style=\"float:right; max-width: 60px; display: inline\" alt=\"SizingLab\" /></a>"
   ]
  },
  {
   "cell_type": "markdown",
   "metadata": {
    "slideshow": {
     "slide_type": "slide"
    }
   },
   "source": [
    "# Sizing models for multi-rotor definition \n",
    "*Written by Marc Budinger (INSA Toulouse), Scott Delbecq (ISAE-SUPAERO) and Félix Pollet (ISAE-SUPAERO), Toulouse, France.*"
   ]
  },
  {
   "cell_type": "markdown",
   "metadata": {},
   "source": [
    "## Global sizing procedure with XDSM representation\n",
    "\n",
    "The following diagram represents the XDSM graph of the global sizing process of the multi-rotor. \n",
    "\n",
    "![XDSM](./assets/images/xdsm_multirotor_base.png)\n",
    "\n",
    "\n",
    "\n",
    "```{exercise}\n",
    ":label: exercice_sizing_code\n",
    "\n",
    "- Give the main sizing problems you are able to detect.\n",
    "- Propose one or multiple solutions (which can request equation manipulation, addition of design variables, addition of constraints) \n",
    "\n",
    "```"
   ]
  },
  {
   "cell_type": "markdown",
   "metadata": {},
   "source": [
    "### Solution using the Normalized Variable Hybrid formulation\n",
    "\n",
    "The following diagram represents the XDSM graph of the global sizing process of the multi-rotor with the NVH formulation to achieve the MultiDisciplinary Analysis (MDA). \n",
    "\n",
    "![XDSM](./assets/images/xdsm_multirotor_mda.png)\n",
    "\n",
    "It consists in addition an oversizing coefficent $k_{os} \\quad [1-10]$ as a design variable and additional inequality constraint $M_{total} \\geq M_{total,real}$. This way, we make sure that the drone is capable of lifting the load and itself. As we are minimizing the total mass $M_{total,real}$ the oversizing coefficient $k_{os}$ will tend to be as small as possible and thus the inequality constraint will be equivalent to an equality constraint ($M_{total} = M_{total,real}$). This is one way of solving an algebraic loop, other methods use numerical solvers or other optimizer-based formulations. The formulation of the optimization problem is the following:\n",
    "\n",
    "\n",
    "\\begin{equation}\n",
    "    \\begin{aligned}\n",
    "        & \\text{minimize}\n",
    "        & & M_{total,real} \\\\\n",
    "        & \\text{with respect to}\n",
    "        & &  k_{os} \\\\\n",
    "        & \\text{subject to constraints} & &  M_{total} \\geq M_{total,real} \\\\\n",
    "    \\end{aligned}\n",
    "\\end{equation}\n",
    "\n",
    "\n",
    "\n",
    "The quadrotor sizing problem contains other solvability issues such as overconstrained singularities. Try to utilize the NVH formulation to solve them."
   ]
  },
  {
   "cell_type": "markdown",
   "metadata": {
    "slideshow": {
     "slide_type": "slide"
    }
   },
   "source": [
    "#### Main problems to be solved\n",
    "\n",
    "In general, the establishment of a sizing procedure involves the resolution of the following 3 problems:\n",
    "* a set of equations sub-constrained by the addition of a design variable in the optimization problem;\n",
    "* an over-constrained variable by adding a design variable (multiplier) and the transfer of the excess equation(s) in the constrained part of the optimization problem;\n",
    "* an algebraic loop by the use of a simplified equation weighted by a multiplying coefficient and a constraint representing the initial equation.\n"
   ]
  },
  {
   "cell_type": "markdown",
   "metadata": {
    "slideshow": {
     "slide_type": "slide"
    }
   },
   "source": [
    "#### Caution for the optimizer\n",
    "\n",
    "Where possible:\n",
    "* the design variables must take the form of a normalized variable around 1 (oversize coef. for example) or easily bounded to facilitate the work of the optimizer.\n",
    "* the constraints must take the form of inequality and not of equality which often introduce numerical difficulties. The optimization of the objective (for example the total mass) will certainly force some (active) constraints to come to an end. "
   ]
  },
  {
   "cell_type": "markdown",
   "metadata": {},
   "source": [
    "We will use the [optimization algorithms](https://docs.scipy.org/doc/scipy/reference/optimize.html) of the Scipy package (through OpenMDAO) to solve and optimize the configuration. We use here the SLSQP algorithm without explicit expression of the gradient (Jacobian). For global evaluation of the solution, you can use the differential evolution algorithm."
   ]
  },
  {
   "cell_type": "code",
   "execution_count": null,
   "metadata": {},
   "outputs": [],
   "source": []
  }
 ],
 "metadata": {
  "kernelspec": {
   "display_name": "Python 3 (ipykernel)",
   "language": "python",
   "name": "python3"
  },
  "language_info": {
   "codemirror_mode": {
    "name": "ipython",
    "version": 3
   },
   "file_extension": ".py",
   "mimetype": "text/x-python",
   "name": "python",
   "nbconvert_exporter": "python",
   "pygments_lexer": "ipython3",
   "version": "3.9.18"
  }
 },
 "nbformat": 4,
 "nbformat_minor": 4
}
