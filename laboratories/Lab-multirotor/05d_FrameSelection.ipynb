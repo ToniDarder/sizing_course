{
 "cells": [
  {
   "cell_type": "markdown",
   "metadata": {
    "slideshow": {
     "slide_type": "slide"
    }
   },
   "source": [
    "<img src=\"./pictures/logo_sizinglab.png\" style=\"float:right; max-width: 60px; display: inline\" alt=\"SizingLab\" /></a>"
   ]
  },
  {
   "cell_type": "markdown",
   "metadata": {
    "slideshow": {
     "slide_type": "slide"
    }
   },
   "source": [
    "# Frame selection\n",
    "*Written by Marc Budinger (INSA Toulouse), Scott Delbecq (ISAE-SUPAERO) and Félix Pollet (ISAE-SUPAERO), Toulouse, France.*"
   ]
  },
  {
   "cell_type": "markdown",
   "metadata": {
    "slideshow": {
     "slide_type": "slide"
    }
   },
   "source": [
    "## Design graph \n",
    "\n",
    "The following diagram represents the design graph of the frame selection. \n",
    "\n",
    "```{figure} ./assets/design_graphs/DesignGraphs_airframe.svg\n",
    ":name: design_graph_airframe\n",
    ":align: center\n",
    ":width: 50%\n",
    "\n",
    "Airframe design graph\n",
    "```\n",
    "\n",
    "\n",
    "The design graphs for the overall drone system can be found in [here](./assets/design_graphs/DesignGraphs_Overall_Solution.pdf)."
   ]
  },
  {
   "cell_type": "markdown",
   "metadata": {},
   "source": [
    "### Sizing code\n"
   ]
  },
  {
   "cell_type": "code",
   "execution_count": 5,
   "metadata": {},
   "outputs": [],
   "source": [
    "import numpy as np\n",
    "\n",
    "# Specifications\n",
    "N_arm = 4.0 # [-] Number of arms\n",
    "N_pro_arm = 1.0 # [-] Number of propellers per arm (1 or 2)\n",
    "\n",
    "# Reference parameters for scaling laws\n",
    "sigma_max = 280e6/4. # [Pa] Composite max stress (2 reduction for dynamic, 2 reduction for stress concentration)\n",
    "rho_s = 1700. # [kg/m3] Volumic mass of aluminum\n",
    "\n",
    "# Assumptions\n",
    "D_pro = 0.3 # [m] Propeller diameter\n",
    "F_pro_to = 1.0 # [N] Thrust for one propeller during take off\n",
    "\n",
    "# Design variables\n",
    "k_D = 0.99 # [-] aspect ratio D_in/D_out for the beam of the frame"
   ]
  },
  {
   "cell_type": "code",
   "execution_count": 6,
   "metadata": {},
   "outputs": [],
   "source": [
    "# Equations\n",
    "\n",
    "# Arms selection with propellers size\n",
    "alpha_sep = 2*np.pi / N_arm # [rad] interior angle separation between propellers\n",
    "L_arm = D_pro / (2.*np.sin(alpha_sep/2.))  # [m] length of the arm\n",
    "\n",
    "# Tube diameter & thickness selection with take-off scenario\n",
    "D_out_arm = (F_pro_to * N_pro_arm * L_arm * 32 / (np.pi * sigma_max * (1 - k_D ** 4))) ** (1 / 3)  # [m] outer diameter of the arm (hollow cylinder)\n",
    "D_in_arm = k_D * D_out_arm # [m] inner diameter of the arm (hollow cylinder) \n",
    "\n",
    "# Estimation models\n",
    "M_arms = np.pi / 4 * (D_out_arm ** 2 - (k_D * D_out_arm) ** 2) * L_arm * rho_s * N_arm # [kg] mass of the arms\n",
    "M_body = 1.5 * M_arms # [kg] mass of the body (40% of total mass is the arms)\n",
    "M_frame = M_body + M_arms  # [kg] total mass of the frame"
   ]
  },
  {
   "cell_type": "code",
   "execution_count": 7,
   "metadata": {},
   "outputs": [
    {
     "name": "stdout",
     "output_type": "stream",
     "text": [
      "Variable    Type       Data/Info\n",
      "--------------------------------\n",
      "D_in_arm    float64    0.009126226336644873\n",
      "D_out_arm   float64    0.009218410441055428\n",
      "D_pro       float      0.3\n",
      "F_pro_to    float      1.0\n",
      "L_arm       float64    0.21213203435596426\n",
      "M_arms      float64    0.0019158884043039236\n",
      "M_body      float64    0.0028738326064558853\n",
      "M_frame     float64    0.004789721010759809\n",
      "N_arm       float      4.0\n",
      "N_pro_arm   float      1.0\n",
      "alpha_sep   float      1.5707963267948966\n",
      "k_D         float      0.99\n",
      "np          module     <module 'numpy' from '/op<...>kages/numpy/__init__.py'>\n",
      "rho_s       float      1700.0\n",
      "sigma_max   float      70000000.0\n"
     ]
    }
   ],
   "source": [
    "%whos"
   ]
  },
  {
   "cell_type": "code",
   "execution_count": null,
   "metadata": {},
   "outputs": [],
   "source": []
  }
 ],
 "metadata": {
  "kernelspec": {
   "display_name": "Python 3 (ipykernel)",
   "language": "python",
   "name": "python3"
  },
  "language_info": {
   "codemirror_mode": {
    "name": "ipython",
    "version": 3
   },
   "file_extension": ".py",
   "mimetype": "text/x-python",
   "name": "python",
   "nbconvert_exporter": "python",
   "pygments_lexer": "ipython3",
   "version": "3.9.18"
  }
 },
 "nbformat": 4,
 "nbformat_minor": 4
}
