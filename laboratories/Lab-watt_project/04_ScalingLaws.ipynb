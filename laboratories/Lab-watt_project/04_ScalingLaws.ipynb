{
 "cells": [
  {
   "cell_type": "markdown",
   "metadata": {},
   "source": [
    "# Estimation models with scaling laws and linear regression\n",
    "\n",
    "*Written by Marc Budinger, INSA Toulouse, France*\n",
    "\n",
    "The estimation models calculate the component characteristics requested for their selection without requiring a detailed design. Scaling laws are particularly suitable for this purpose. This notebook illustrates the approach with IGBT component. \n",
    "\n",
    "*IGBT modules*\n",
    "![IGBTmodule](https://raw.githubusercontent.com/SizingLab/sizing_course/main/laboratories/Lab-watt_project/assets/images/IGBTmodule.PNG)\n",
    "\n",
    "Validation of the obtained scaling laws is realized thanks linear regression on catalog data.  \n",
    "\n",
    "The [following article](https://www.sciencedirect.com/science/article/pii/S1270963815003223) give more details and other models for power converters:  \n",
    ">*Giraud, X., Budinger, M., Roboam, X., Piquet, H., Sartor, M., & Faucher, J. (2016). Optimal design of the Integrated Modular Power Electronics Cabinet. Aerospace Science and Technology, 48, 37-52.*  \n"
   ]
  },
  {
   "cell_type": "markdown",
   "metadata": {},
   "source": [
    "## Scaling laws\n",
    "\n",
    "#### Assumptions and notation\n",
    "\n",
    "The IGBT chip or MOSFET are constituted of many arranged structures called \"unit cells\". The more the cells are provided, the lower the on-state voltage will be. The number of cells is assumed to be proportional to the current rating. We seek to establish the scaling laws for the same level of maximum voltage and the same technology. The thicknesses of the different layers (silicon, insulation, copper plate, ...) will therefore be assumed to be constant.\n",
    "\n",
    "*Notation*: The x* scaling ratio of a given parameter is calculated as $x^*=\\frac{x}{x_{ref}}$ where $x_{ref}$ is the parameter taken as the reference and $x$ the parameter under study.\n"
   ]
  },
  {
   "cell_type": "markdown",
   "metadata": {},
   "source": [
    "#### Thermal resistance \n",
    "> Exercice : Propose a scaling law which links thermal resistance $R_{th}$ to rated current $I_0$. Estimate the thermal resistance for a 300 A component knowing the following reference component:   \n",
    "$I_{0,ref} = 100 A$  \n",
    "$R_{th_JC,ref} = 0.27 °C/W$  "
   ]
  },
  {
   "cell_type": "code",
   "execution_count": 2,
   "metadata": {},
   "outputs": [
    {
     "name": "stdout",
     "output_type": "stream",
     "text": [
      "The estimated thermal resistance is: 0.09 °C/W\n",
      "The estimation model is: R_th_jc = 2.70e+01.I0^(-1)\n"
     ]
    }
   ],
   "source": [
    "I0_ref=100.  # [A]\n",
    "R_th_jc_ref=.27 # [°C/W]\n",
    "\n",
    "print(\"The estimated thermal resistance is: %.2f °C/W\" %(R_th_jc_ref*(300/I0_ref)**(-1)))\n",
    "print(\"The estimation model is: R_th_jc = %.2e.I0^(-1)\" % (R_th_jc_ref*(1/I0_ref)**(-1)))"
   ]
  },
  {
   "cell_type": "markdown",
   "metadata": {},
   "source": [
    "## Validation with a data plot\n",
    "\n",
    "We will compare the scaling law with a plot on catalog data. \n",
    "\n",
    "#### Import data\n",
    "\n",
    "The first step is to import catalog data stored in a .csv file. We use for that functions from [Panda](https://pandas.pydata.org/index.html) package (with here an [introduction to panda](https://jakevdp.github.io/PythonDataScienceHandbook/03.00-introduction-to-pandas.html)). "
   ]
  },
  {
   "cell_type": "code",
   "execution_count": 1,
   "metadata": {},
   "outputs": [
    {
     "data": {
      "text/html": [
       "<div>\n",
       "<style scoped>\n",
       "    .dataframe tbody tr th:only-of-type {\n",
       "        vertical-align: middle;\n",
       "    }\n",
       "\n",
       "    .dataframe tbody tr th {\n",
       "        vertical-align: top;\n",
       "    }\n",
       "\n",
       "    .dataframe thead th {\n",
       "        text-align: right;\n",
       "    }\n",
       "</style>\n",
       "<table border=\"1\" class=\"dataframe\">\n",
       "  <thead>\n",
       "    <tr style=\"text-align: right;\">\n",
       "      <th></th>\n",
       "      <th>REF</th>\n",
       "      <th>Emax</th>\n",
       "      <th>I0</th>\n",
       "      <th>Eon_off</th>\n",
       "      <th>Vcc_ref</th>\n",
       "      <th>Vf0</th>\n",
       "      <th>Rf0</th>\n",
       "      <th>Qrr</th>\n",
       "      <th>Rth_jc</th>\n",
       "    </tr>\n",
       "  </thead>\n",
       "  <tbody>\n",
       "    <tr>\n",
       "      <th>0</th>\n",
       "      <td>SKMy50GB063D</td>\n",
       "      <td>600</td>\n",
       "      <td>50</td>\n",
       "      <td>4.3</td>\n",
       "      <td>300</td>\n",
       "      <td>0.9</td>\n",
       "      <td>15.0</td>\n",
       "      <td>3.2</td>\n",
       "      <td>0.50</td>\n",
       "    </tr>\n",
       "    <tr>\n",
       "      <th>1</th>\n",
       "      <td>SKMy50GB063D</td>\n",
       "      <td>600</td>\n",
       "      <td>75</td>\n",
       "      <td>5.5</td>\n",
       "      <td>300</td>\n",
       "      <td>0.9</td>\n",
       "      <td>13.3</td>\n",
       "      <td>3.7</td>\n",
       "      <td>0.35</td>\n",
       "    </tr>\n",
       "    <tr>\n",
       "      <th>2</th>\n",
       "      <td>SKMy50GB063D</td>\n",
       "      <td>600</td>\n",
       "      <td>100</td>\n",
       "      <td>7.0</td>\n",
       "      <td>300</td>\n",
       "      <td>0.9</td>\n",
       "      <td>10.0</td>\n",
       "      <td>6.0</td>\n",
       "      <td>0.27</td>\n",
       "    </tr>\n",
       "    <tr>\n",
       "      <th>3</th>\n",
       "      <td>SKMy50GB063D</td>\n",
       "      <td>600</td>\n",
       "      <td>200</td>\n",
       "      <td>18.5</td>\n",
       "      <td>300</td>\n",
       "      <td>0.9</td>\n",
       "      <td>5.5</td>\n",
       "      <td>12.7</td>\n",
       "      <td>0.14</td>\n",
       "    </tr>\n",
       "    <tr>\n",
       "      <th>4</th>\n",
       "      <td>SKMy50GB063D</td>\n",
       "      <td>600</td>\n",
       "      <td>300</td>\n",
       "      <td>27.0</td>\n",
       "      <td>300</td>\n",
       "      <td>0.9</td>\n",
       "      <td>3.7</td>\n",
       "      <td>18.0</td>\n",
       "      <td>0.09</td>\n",
       "    </tr>\n",
       "  </tbody>\n",
       "</table>\n",
       "</div>"
      ],
      "text/plain": [
       "            REF  Emax   I0  Eon_off  Vcc_ref  Vf0   Rf0   Qrr  Rth_jc\n",
       "0  SKMy50GB063D   600   50      4.3      300  0.9  15.0   3.2    0.50\n",
       "1  SKMy50GB063D   600   75      5.5      300  0.9  13.3   3.7    0.35\n",
       "2  SKMy50GB063D   600  100      7.0      300  0.9  10.0   6.0    0.27\n",
       "3  SKMy50GB063D   600  200     18.5      300  0.9   5.5  12.7    0.14\n",
       "4  SKMy50GB063D   600  300     27.0      300  0.9   3.7  18.0    0.09"
      ]
     },
     "execution_count": 1,
     "metadata": {},
     "output_type": "execute_result"
    }
   ],
   "source": [
    "# Panda package Importation\n",
    "import pandas as pd\n",
    "\n",
    "# Read the .csv file with bearing data\n",
    "path='https://raw.githubusercontent.com/SizingLab/sizing_course/main/laboratories/Lab-watt_project/assets/data/'\n",
    "df = pd.read_csv(path+'DataIGBT.csv', sep=';')\n",
    "# Print the head (first lines of the file)\n",
    "df.head()"
   ]
  },
  {
   "cell_type": "markdown",
   "metadata": {},
   "source": [
    "##### Plot data\n",
    "\n",
    "We can now compare graphically the catalog data with scaling law:\n",
    "- blue points, catalog data\n",
    "- red line, scaling law\n",
    "- red point, the reference for scaling law.\n",
    "\n",
    "For the plot, we use the [matplotlib](https://matplotlib.org/) package."
   ]
  },
  {
   "cell_type": "code",
   "execution_count": 4,
   "metadata": {},
   "outputs": [
    {
     "data": {
      "image/png": "[encoded data removed]",
      "text/plain": [
       "<matplotlib.figure.Figure at 0x1c85d26c9b0>"
      ]
     },
     "metadata": {},
     "output_type": "display_data"
    }
   ],
   "source": [
    "import numpy as np\n",
    "import matplotlib.pyplot as plt\n",
    "\n",
    "# Add 1 mm diameter point\n",
    "I0=np.linspace(10, 300, num=50)\n",
    "\n",
    "# Scaling law\n",
    "Rth=R_th_jc_ref*(I0/I0_ref)**(-1)\n",
    "\n",
    "# plot\n",
    "h, ax = plt.subplots(1,1,sharex=True)\n",
    "ax.plot(I0, Rth, '--r',df['I0'],df['Rth_jc'],'.b', I0_ref, R_th_jc_ref, '.r')\n",
    "ax.set_ylabel('Thermal resistance (junction to case) [°C/W]')\n",
    "ax.set_xlabel('Rated current [A]')\n",
    "ax.grid()"
   ]
  },
  {
   "cell_type": "markdown",
   "metadata": {},
   "source": [
    "#### Other scaling laws\n",
    "\n",
    "The following table summarize the scaling laws which can be used for the sizing code.\n",
    "\n",
    "##### Capacitor\n",
    "\n",
    "|                | Scaling laws  | References |\n",
    "| -------------- | --------------| -----------|\n",
    "| Definition parameter : |       |            |\n",
    "| Diameter | $D$   | 100 mm |\n",
    "| Height   | $H$  | 155 mm| \n",
    "| Capacitance | $C^*= D^{*2}*H^{*}$ | $1000\\mu F$ |\n",
    "| Max voltage | $V^*=1$ | 800 V |\n",
    "| Resistance ESR | $R_s^*=D^{*-2}$ | $3.2 m\\Omega$ |  \n",
    "| Thermal resistance |  $R_{th}^*=D^{*-2/3} H^{*-1/3}$ | $3°C/W$ | \n",
    "| Wheight | $M^*=D^{*2} H^*$ | 1500 g | \n",
    "\n",
    "##### IGBT\n",
    "\n",
    "|                | Scaling laws  | References |\n",
    "| -------------- | --------------| -----------|\n",
    "| Definition parameter : |       |            |\n",
    "| Current | $I$ | $80 A$ |\n",
    "|Maximum voltage | $V_{max}^* = 1$ | $900 V$ |\n",
    "| Voltage drop | $V_0^*=1$ | $1 V$ | \n",
    "| Dynamic resistance | $R_0^*=I^{*-1}$ | 20 m${\\Omega}$ |\n",
    "| Commutation losses | $(E_{on}+E_{off})^*=I^* E^*$ | $8.2 mJ$ for $E=450 V$ |\n",
    "| Thermal resistance | $R_{th_JC}^*=I^{*-1}$ | $0.30 °C/W$ |\n",
    "\n",
    "##### Diode (Current evolution equal to IGBT current) \n",
    "\n",
    "\n",
    "|                | Scaling laws  | References |\n",
    "| -------------- | --------------| -----------|\n",
    "| Definition parameter : |       |            |\n",
    "| Current | $I$ | $41 A$ |\n",
    "| Maximum voltage | $V_{max}^* = 1$ | $900 V$ |\n",
    "| Voltage drop | $V_0^*=1$ | $1 V$ | \n",
    "| Dynamic resistance | $R_0^*=I^{*-1}$ | $15 m\\Omega$ |\n",
    "| Commutation losses | $t_{rr}I_{RM}^{*}=I^*E^*$ | $17.2 mJ$ for $E=600 V$ |\n",
    "| Thermal resistance | $R_{th_JC}^{*}=I^{*-1}$ | $0.47 °C/W$ |\n",
    "\n"
   ]
  },
  {
   "cell_type": "markdown",
   "metadata": {},
   "source": [
    "> Exercice: Calculate the characteristics of a 50mm diameter and 50mm height capacitor.  "
   ]
  },
  {
   "cell_type": "code",
   "execution_count": null,
   "metadata": {},
   "outputs": [],
   "source": []
  }
 ],
 "metadata": {
  "kernelspec": {
   "display_name": "Python 3 (ipykernel)",
   "language": "python",
   "name": "python3"
  },
  "language_info": {
   "codemirror_mode": {
    "name": "ipython",
    "version": 3
   },
   "file_extension": ".py",
   "mimetype": "text/x-python",
   "name": "python",
   "nbconvert_exporter": "python",
   "pygments_lexer": "ipython3",
   "version": "3.8.13"
  }
 },
 "nbformat": 4,
 "nbformat_minor": 4
}
