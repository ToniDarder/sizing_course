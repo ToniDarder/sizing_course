{
 "cells": [
  {
   "cell_type": "markdown",
   "metadata": {},
   "source": [
    "# Equations of sizing scenarios\n",
    "\n",
    "*Written by Marc Budinger, INSA Toulouse, France*\n",
    "\n",
    "We will implement here the sizing scenarios equations of the DC/DC converter.\n"
   ]
  },
  {
   "cell_type": "markdown",
   "metadata": {},
   "source": [
    "### Main sizing scenario\n",
    "\n",
    "To conservatively design the equipment, we will assume that the converter must be able to continuously support the worst operating point in boost charge or discharge.\n",
    "\n",
    "This boost charge, with an objective duration of 10 s, corresponds to the recharge of a flat path of 400 m. It is assumed that on this path the difference in height between stations is zero and that all of the kinetic energy is recovered during braking. It will also be assumed that the charges or discharges will be done at constant power. For a longer distance, we will accept a charging time longer than 10 s. \n"
   ]
  },
  {
   "cell_type": "markdown",
   "metadata": {},
   "source": [
    "Summary of the data needed for the calculations:\n",
    "- distance between 2 totems $d$ = 400 m\n",
    "\n",
    "- bus mass $m$ = 20 t\n",
    "- [Rolling coefficient](http://en.wikipedia.org/wiki/Rolling_resistance) tires $C_{rr} = 0.01$\n",
    "\n",
    "- DC bus voltage $U_{dc}$ = 150 V\n",
    "- number of module $N_m$ = 8\n",
    "- Ultracapacitor module maximum voltage $V_{max}$ = 125 V \n",
    "- Ultracapacitor module minimum voltage $V_{min}$ = 62.5 V\n",
    "\n",
    "> Exercice: Explain and calculate (with python) the specifications (max power, max input/output current) of the DC/DC converter. "
   ]
  },
  {
   "cell_type": "code",
   "execution_count": null,
   "metadata": {},
   "outputs": [],
   "source": [
    "# Parameters\n",
    "U_dc=150 # [V] DC bus voltage\n",
    "V_max=125. # [V] max Ultra-Capacitor voltage\n",
    "V_min=62.5 # [V] min Ultra-Capacitor voltage\n",
    "m=20e3 # [kg] bus mass\n",
    "d=400. # [m] distance\n",
    "h=3. # [m] rise height\n",
    "C_rr= 0.01 # [-] tyre rolling coef\n",
    "g=9.81 # [m/s²] gravity acceleration\n",
    "t=10 # [s] boost charge duration\n",
    "N=8 # [-] number of modules\n",
    "\n",
    "# Energies & works calculations\n",
    "E_c=m*g*C_rr*d # [J] friction work of rolling coef\n",
    "\n",
    "print(\"Travel energy     : %.2g J\"%(E_c))\n",
    "\n",
    "# Power charge or discharge per module\n",
    "P = E_c/t/N\n",
    "\n",
    "print(\"Boost charge power per module     : %.2g W\"%(P))\n",
    "print(\"DC/DC converter, current DC bus side : %.1f A\"%(P/U_dc))\n",
    "print(\"DC/DC converter, max Current ultracapacitor module : %.1f A\"%(P/V_min))\n"
   ]
  },
  {
   "cell_type": "markdown",
   "metadata": {},
   "source": [
    "### Sizing scenarios of DC/DC converter components\n",
    "\n",
    "The following figures illustrates the main components of the DC/DC converter of one ultracapicitor module.\n",
    "\n",
    "*DC/DC converter diagram*\n",
    "![DCDCconverter_diagram](https://raw.githubusercontent.com/SizingLab/sizing_course/main/laboratories/Lab-watt_project/assets/images/DCDCconverter_diagram.png)\n",
    "\n",
    "The objective now is to determine the characteristic equations of the sizing scenarios of the different components."
   ]
  },
  {
   "cell_type": "markdown",
   "metadata": {},
   "source": [
    "#### Current and voltage ripples equations\n",
    "\n",
    "The inductor, on the ultracapacitor side,  limits the current ripple. The capacitor, on the DC bus side, limits the voltage ripple. The following figures represent the transient evolution of currents and voltages.\n",
    "\n",
    "*Current temporal evolution*\n",
    "![CurrentRipple](https://raw.githubusercontent.com/SizingLab/sizing_course/main/laboratories/Lab-watt_project/assets/images/CurrentRipple.png)\n",
    "\n",
    "*Voltage temporal evolution*\n",
    "![VoltageRipple](https://raw.githubusercontent.com/SizingLab/sizing_course/main/laboratories/Lab-watt_project/assets/images/VoltageRipple.png)\n",
    "\n",
    "Show that current ripple and voltage ripple can be expressed by the following relations:\n",
    "\n",
    "$\\Delta I=\\frac{E(1-\\alpha)\\alpha T}{L}$\n",
    "\n",
    "and\n",
    "\n",
    "$\\Delta V=\\frac{I_{max}(1-\\alpha)\\alpha T}{C}$\n",
    "\n",
    "> Exercice: Plot the evolution of the voltage and current ripples as a function of the duty cycle. What is the most critical operating point?\n",
    "\n",
    "For following calculations, this critical duty cycle will be assumed."
   ]
  },
  {
   "cell_type": "code",
   "execution_count": null,
   "metadata": {},
   "outputs": [],
   "source": [
    "import matplotlib.pyplot as plt\n",
    "import numpy as np\n",
    "\n",
    "alpha=np.linspace(0,1,1000)\n",
    "ripple=alpha*(1-alpha)\n",
    "plt.plot(alpha,ripple)  \n",
    "plt.xlabel(r'Duty cycle $\\alpha$ [-]')\n",
    "plt.ylabel(r'$\\frac{\\Delta IL}{ET}$ or $\\frac{\\Delta VC}{ET}$')\n",
    "plt.grid()\n",
    "plt.show()\n",
    "\n",
    "print('The critical duty cycle is : %.2f'%(alpha[np.argmax(ripple)]))"
   ]
  },
  {
   "cell_type": "markdown",
   "metadata": {},
   "source": [
    "#### Components losses \n",
    "\n",
    "The following table summarizes the equations which enable to calculate losses in the main components of the converter.\n",
    "\n",
    "|   \t| Inductor  \t| IGBT  \t| Diode  \t| DC Capacitor  \t|\n",
    "|---------------------\t|---------------------\t\t|---------------------\t\t|---------------------\t\t|---------------------\t\t|\n",
    "| Mean current  \t| $I_L$  \t|  $\\alpha I_L$   \t|   $(1-\\alpha)I_L$  \t|   0\t|\n",
    "| RMS current  \t| $I_{L,RMS}$  \t|  $\\sqrt{\\alpha } I_{L,RMS}$ \t|  $\\sqrt{1-\\alpha } I_{L,RMS}$ \t| $\\sqrt{\\alpha \\left(1-\\alpha \\right)} I_{L,RMS}$  \t|\n",
    "| Conduction losses   \t|  $R_{L}I_{RMS}^{2}$ \t|  ${V_{0}}{I_{mean}}+R_{0}I_{RMS}^{2}$ \t| ${V_{0}}{I_{mean}}+R_{0}I_{RMS}^{2}$   \t| $R_{S}I_{RMS}^{2}$  \t|\n",
    "| Commutation losse  \t|  0 \t|  $f(E_{on}+E_{off})$ \t| $\\frac{1}{8} f I_{RM} E t_{rr}$  \t|  0 \t|\n",
    "\n",
    "with : $I_{L,RMS}=I_{L}\\sqrt{1+\\frac{1}{12}\\left(\\frac{\\Delta I_{L}}{I_{L}}\\right)^{2}}$\n",
    "\n",
    "> Exercice : Explain how mean and RMS current are calculated for these components. Give modeling assumptions.\n"
   ]
  },
  {
   "cell_type": "markdown",
   "metadata": {},
   "source": [
    "#### Components temperatures\n",
    "\n",
    "\n"
   ]
  },
  {
   "cell_type": "markdown",
   "metadata": {},
   "source": [
    "Estimation of the hot spot temperature of the various components is important during the sizing of a converter. It is possible to use for this nodal approaches as Figure below.\n",
    "\n",
    "*Nodal thermal model*\n",
    "![ThermalModel](https://raw.githubusercontent.com/SizingLab/sizing_course/main/laboratories/Lab-watt_project/assets/images/ThermalNetwork.png)\n",
    "\n",
    "> Exercice : Calculate the temperature of IGBT, Diode, inductor and capacitor for the following configuration.\n"
   ]
  },
  {
   "cell_type": "code",
   "execution_count": null,
   "metadata": {},
   "outputs": [],
   "source": []
  }
 ],
 "metadata": {
  "kernelspec": {
   "display_name": "Python 3 (ipykernel)",
   "language": "python",
   "name": "python3"
  },
  "language_info": {
   "codemirror_mode": {
    "name": "ipython",
    "version": 3
   },
   "file_extension": ".py",
   "mimetype": "text/x-python",
   "name": "python",
   "nbconvert_exporter": "python",
   "pygments_lexer": "ipython3",
   "version": "3.9.13"
  }
 },
 "nbformat": 4,
 "nbformat_minor": 4
}
