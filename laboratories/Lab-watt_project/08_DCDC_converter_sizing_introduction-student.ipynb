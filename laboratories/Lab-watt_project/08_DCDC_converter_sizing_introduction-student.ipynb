{
 "cells": [
  {
   "cell_type": "markdown",
   "metadata": {
    "slideshow": {
     "slide_type": "slide"
    }
   },
   "source": [
    "# Design graphs for the sizing a DC/DC converter\n",
    "*Written by Marc Budinger, INSA Toulouse, France*"
   ]
  },
  {
   "cell_type": "markdown",
   "metadata": {
    "slideshow": {
     "slide_type": "slide"
    }
   },
   "source": [
    "The purpose of this notebook is to structure the sizing procedure of the DC / DC converter.\n",
    "\n",
    "In general, the establishment of a sizing procedure involves the resultion of the following 3 problems:\n",
    "* a set of equations sub-constrained by the addition of a design variable in the optimization problem;\n",
    "* an over-constrained variable by adding a design variable (multiplier) and the transfer of the excess equation(s) in the constrained part of the optimization problem;\n",
    "* an algebraic loop by the use of a simplify equation weighted by a multiplying coefficient and a constraint representing the initial equation.\n"
   ]
  },
  {
   "cell_type": "markdown",
   "metadata": {
    "slideshow": {
     "slide_type": "slide"
    }
   },
   "source": [
    "\n",
    "Where possible:\n",
    "* the design variables must take the form of a normalized variable around 1 (oversize coef. for example) or easily bounded to facilitate the work of the optimization algorithm.\n",
    "* the constraints must take the form of inequality and not of equality more difficult to manage. The optimization of the objective (for example the total mass) will certainly force some (active) constraints to come to an end. "
   ]
  },
  {
   "cell_type": "markdown",
   "metadata": {
    "slideshow": {
     "slide_type": "slide"
    }
   },
   "source": [
    "## Means objective network\n",
    "\n",
    "The purpose of the sizing will be to minimize the mass of the converter. The following graph shows that this mass depends mainly on the losses of the converter by the mass of the dissipator. The switching frequency also influences the mass of the filtering portion of the converter and the switching losses. The latter will therefore be chosen as an optimization variable.\n",
    "\n",
    "Means objective network:  \n",
    "![Means objective network](https://raw.githubusercontent.com/SizingLab/sizing_course/main/laboratories/Lab-watt_project/assets/images/Mermaid_ObjectiveNetwork.svg)"
   ]
  },
  {
   "cell_type": "markdown",
   "metadata": {
    "slideshow": {
     "slide_type": "slide"
    }
   },
   "source": [
    "## Thermal sizing scenario\n",
    "\n",
    "### Design graph\n",
    "\n",
    "The following figure shows the design graph of a part of the equations representing the calculation of the temperatures of the various components of the DC/DC converter.\n",
    "\n",
    "![Graphic Thermal Design](https://raw.githubusercontent.com/SizingLab/sizing_course/main/laboratories/Lab-watt_project/assets/images/IGBT_design_graph.png)\n",
    "\n",
    "> Exercise: analyze the design graph and show that there is an algebraic-loop and over-constraints. Propose solutions for these problems.\n"
   ]
  },
  {
   "cell_type": "markdown",
   "metadata": {
    "slideshow": {
     "slide_type": "slide"
    }
   },
   "source": [
    "### Optimization problem: synthesis\n",
    "\n",
    "> Exercice: synthesis here the design variables and the constraints which have to be add to the DC/DC converter optimization problem.\n",
    "\n",
    "![PseudoCode](https://raw.githubusercontent.com/SizingLab/sizing_course/main/laboratories/Lab-watt_project/assets/images/PseudoCodeInductor.png)\n",
    "\n"
   ]
  },
  {
   "cell_type": "markdown",
   "metadata": {},
   "source": [
    "### Sizing code and optimization\n",
    "\n",
    "> Exercice: propose a sizing code and a optimization loop for the selection of an IGBT module & a heatsink.\n",
    "\n",
    "The specifications and design assumptions are the following:\n"
   ]
  },
  {
   "cell_type": "code",
   "execution_count": 38,
   "metadata": {},
   "outputs": [],
   "source": [
    "# DC/DC converter Specifications\n",
    "E=150 # [V] DC bus voltage\n",
    "IL=140 # [A] DC current of the load\n",
    "UL=62.25 # [V] DC voltage of the load\n",
    "\n",
    " \n",
    "# Design Assumptions\n",
    "T_amb=40 # [°C] Ambient temperature\n",
    "DE=E*.01 # [V] Max ripple voltage DC bus\n",
    "DIL=IL*.35 # [A] Max ripple current\n",
    "\n",
    "f=10e3 # [Hz] switching frequency\n",
    "Lhs=150 # [mm] Heatsink length"
   ]
  },
  {
   "cell_type": "markdown",
   "metadata": {},
   "source": [
    "For the technical data about the IGBT switchs you have here an example of datasheet for a [reference component](IXYN80N90C3H1.pdf).\n",
    "\n",
    "##### IGBT\n",
    "\n",
    "|                | Scaling laws  | References |\n",
    "| -------------- | --------------| -----------|\n",
    "| Definition parameter : |       |            |\n",
    "| Current | $I$ | $80 A$ |\n",
    "|Maximum voltage | $V_{max}^* = 1$ | $900 V$ |\n",
    "| Voltage drop | $V_0^*=1$ | $1 V$ | \n",
    "| Dynamic resistance | $R_0^*=I^{*-1}$ | 20 m${\\Omega}$ |\n",
    "| Commutation losses | $(E_{on}+E_{off})^*=I^* E^*$ | $8.2 mJ$ for $E=450 V$ |\n",
    "| Thermal resistance | $R_{th_JC}^*=I^{*-1}$ | $0.30 °C/W$ |\n",
    "\n",
    "##### Diode (Current evolution equal to IGBT current) \n",
    "\n",
    "\n",
    "|                | Scaling laws  | References |\n",
    "| -------------- | --------------| -----------|\n",
    "| Definition parameter : |       |            |\n",
    "| Current | $I$ | $41 A$ |\n",
    "| Maximum voltage | $V_{max}^* = 1$ | $900 V$ |\n",
    "| Voltage drop | $V_0^*=1$ | $1 V$ | \n",
    "| Dynamic resistance | $R_0^*=I^{*-1}$ | $15 m\\Omega$ |\n",
    "| Commutation losses | $t_{rr}I_{RM}^{*}=I^*E^*$ | $17.2 mJ$ for $E=600 V$ |\n",
    "| Thermal resistance | $R_{th_JC}^{*}=I^{*-1}$ | $0.47 °C/W$ |\n",
    "\n",
    "More details about the technical informations can be found [here](http://www.ixyspower.com/images/technical_support/Application%20Notes%20By%20Topic/General%20Topics/IXAN0056.pdf).\n",
    "    \n",
    " "
   ]
  },
  {
   "cell_type": "code",
   "execution_count": 39,
   "metadata": {},
   "outputs": [],
   "source": [
    "import numpy as np\n",
    "import scipy\n",
    "import scipy.optimize\n",
    "from math import pi, sqrt\n",
    "import timeit\n",
    "\n",
    "\n",
    "def SizingDCDC(param, arg):\n",
    "    # Variables\n",
    "    # ----------------------------------------\n",
    "    #-\n",
    "\n",
    "\n",
    "    \n",
    "    # Main electrical equations\n",
    "    # ----------------------------------------\n",
    "    \n",
    "    # Global\n",
    "    \n",
    "    Alpha=UL/E # [-] Duty cycle\n",
    "    T=1/f # [s] PWM period\n",
    "    \n",
    "    # Filter: Inductor & Capacitor\n",
    "    L=E*Alpha*(1-Alpha)*T/DIL  # [H] Inductance value\n",
    "    C=IL*Alpha*(1-Alpha)*T/DE  # [F] Capcitance value\n",
    "        \n",
    "    # RMS and mean value\n",
    "    \n",
    "     \n",
    "   \n",
    "    # ----------------------------------------\n",
    "    # IGBT module IXYS: 900V max\n",
    "    \n",
    "    I_IGBT_ref=80 # [A] Ref Current of the module\n",
    "    V0_IGBT_ref=1 #[V] voltage drop \n",
    "    R0_IGBT_ref=20e-3 # [Ohm] dynamic resistance\n",
    "    Ecom_IGBT_ref=8.2e-3 # [J] commutation energy ref\n",
    "    E_IGBT_ref=450 # [V] ref voltage for commutation loss\n",
    "    Rth_IGBT_ref=0.3 # [°C/W] thermal resistance\n",
    "    \n",
    "    T_max_IGBT=120 # [°C] max temeprature\n",
    "        \n",
    "    # current estimation\n",
    "    \n",
    "    # IGBT scaling\n",
    "    \n",
    "    # Thermal calculation\n",
    "    \n",
    "    # Diode of IGBT module IXYS : 900V max  \n",
    "      \n",
    "    I_Diode_ref=41 # [A] Ref Current of the module\n",
    "    V0_Diode_ref=1 #[V] voltage drop \n",
    "    R0_Diode_ref=15e-3 # [Ohm] dynamic resistance\n",
    "    QrrE_ref=17.2e-3 # [J] commutation energy\n",
    "    Rth_Diode_ref=0.47 # [°C/W] thermal resistance\n",
    "\n",
    "    # Diode scaling\n",
    "\n",
    "    # Thermal calculation\n",
    "    \n",
    "    # ----------------------------------------\n",
    "    # Heatsink : forced convection (2m/s)\n",
    " \n",
    "\n",
    "    \n",
    "    # Objective and contraints\n",
    "    if arg=='Obj':\n",
    "        return \n",
    "    elif arg=='Prt':\n",
    "        print(\"* Assumptions:\")\n",
    "        print(\"           Frequency f= %.2e Hz\"%(f))\n",
    "        print(\"           Ripple current DIL/IL= %.2f %%\"%(DIL/IL*100))\n",
    "        print(\"* Optimisation variables:\")\n",
    "        print(\"           Heatsink temperature (Heatsink) T_H= %.2f [°C]\"%(T_H))\n",
    "        print(\"           Width W / Height H aspect ratio (Heatsink) W_H= %.2f\"%(W_H))\n",
    "        print(\"           Oversizing coefficient (IGBT) k_IGBT= %.2f\"%(k_IGBT))\n",
    "        print(\"* Components characteristics:\")\n",
    "        print(\"           Global mass = %.2f kg\"%(M_total))\n",
    "        print(\"           Power = %.2f kW\"%(IL*UL/1e3))\n",
    "        print(\"           Efficiency = %.2f %%\"%((IL*UL)/(IL*UL+(Ploss_Diode+Ploss_IGBT))*100))\n",
    "        print(\"         ---- IGBT + Diode\")\n",
    "        print(\"           Power loss IGBT= %.2f W\"%(Ploss_IGBT))  \n",
    "        print(\"           Power loss Diode= %.2f W\"%(Ploss_Diode))  \n",
    "        print(\"         ---- Heatsink\")\n",
    "        print(\"           Thermal resistance = %.2f K/W\"%(RthH))\n",
    "        print(\"           Mass = %.2f kg\"%(M_H))\n",
    "        print(\"           L = %.2f mm\"%(Lhs))\n",
    "        print(\"           W = %.2f mm\"%(Whs))\n",
    "        print(\"           H = %.2f mm\"%(Hhs))  \n",
    "        print(\"* Constraints (should be >0):\")\n",
    "    else:\n",
    "        return []\n",
    "\n",
    "\n"
   ]
  },
  {
   "cell_type": "code",
   "execution_count": 40,
   "metadata": {},
   "outputs": [],
   "source": [
    "#Variables d'optimisation\n",
    "\n",
    "# Vector of parameters\n",
    "parameters = scipy.array((T_H,W_H,k_IGBT))\n"
   ]
  },
  {
   "cell_type": "code",
   "execution_count": 41,
   "metadata": {},
   "outputs": [
    {
     "name": "stdout",
     "output_type": "stream",
     "text": [
      "-----------------------------------------------\n",
      "Initial characteristics before optimization :\n",
      "* Assumptions:\n",
      "           Frequency f= 1.00e+04 Hz\n",
      "           Ripple current DIL/IL= 35.00 %\n",
      "* Optimisation variables:\n",
      "           Heatsink temperature (Heatsink) T_H= 65.00 [°C]\n",
      "           Width W / Height H aspect ratio (Heatsink) W_H= 0.10\n",
      "           Oversizing coefficient (IGBT) k_IGBT= 1.00\n",
      "* Components characteristics:\n",
      "           Global mass = 9.84 kg\n",
      "           Power = 8.71 kW\n",
      "           Efficiency = 94.47 %\n",
      "         ---- IGBT + Diode\n",
      "           Power loss IGBT= 226.37 W\n",
      "           Power loss Diode= 283.96 W\n",
      "         ---- Heatsink\n",
      "           Thermal resistance = 0.05 K/W\n",
      "           Mass = 9.84 kg\n",
      "           L = 150.00 mm\n",
      "           W = 88.76 mm\n",
      "           H = 887.60 mm\n",
      "* Constraints (should be >0):\n",
      "           Temperature margin IBGT= -4.933 K\n",
      "           Temperature margin Diode= -62.784 K\n",
      "-----------------------------------------------\n"
     ]
    }
   ],
   "source": [
    "# Initial characteristics before optimization \n",
    "print(\"-----------------------------------------------\")\n",
    "print(\"Initial characteristics before optimization :\")\n",
    "\n",
    "SizingDCDC(parameters, 'Prt')\n",
    "print(\"-----------------------------------------------\")\n",
    "\n",
    "\n"
   ]
  },
  {
   "cell_type": "code",
   "execution_count": 42,
   "metadata": {},
   "outputs": [
    {
     "name": "stdout",
     "output_type": "stream",
     "text": [
      "Optimization terminated successfully.    (Exit mode 0)\n",
      "            Current function value: 2.822643128748146\n",
      "            Iterations: 14\n",
      "            Function evaluations: 71\n",
      "            Gradient evaluations: 14\n",
      "-----------------------------------------------\n",
      "Final characteristics after optimization :\n",
      "* Assumptions:\n",
      "           Frequency f= 1.00e+04 Hz\n",
      "           Ripple current DIL/IL= 35.00 %\n",
      "* Optimisation variables:\n",
      "           Heatsink temperature (Heatsink) T_H= 86.25 [°C]\n",
      "           Width W / Height H aspect ratio (Heatsink) W_H= 3.00\n",
      "           Oversizing coefficient (IGBT) k_IGBT= 3.76\n",
      "* Components characteristics:\n",
      "           Global mass = 2.82 kg\n",
      "           Power = 8.71 kW\n",
      "           Efficiency = 94.68 %\n",
      "         ---- IGBT + Diode\n",
      "           Power loss IGBT= 184.00 W\n",
      "           Power loss Diode= 305.84 W\n",
      "         ---- Heatsink\n",
      "           Thermal resistance = 0.09 K/W\n",
      "           Mass = 2.82 kg\n",
      "           L = 150.00 mm\n",
      "           W = 238.43 mm\n",
      "           H = 79.48 mm\n",
      "* Constraints (should be >0):\n",
      "           Temperature margin IBGT= 20.789 K\n",
      "           Temperature margin Diode= -0.000 K\n",
      "-----------------------------------------------\n"
     ]
    }
   ],
   "source": [
    "# Then we can solve the problem and print of the optimized solution:\n",
    "\n",
    "# In[70]:\n",
    "\n",
    "\n",
    "# optimization with SLSQP algorithm\n",
    "contrainte=lambda x: SizingDCDC(x, 'Const')\n",
    "objectif=lambda x: SizingDCDC(x, 'Obj')\n",
    "result = scipy.optimize.fmin_slsqp(func=objectif, x0=parameters, \n",
    "                                   bounds=[](),\n",
    "                                   f_ieqcons=contrainte, iter=100, acc=1e-8)\n",
    "\n",
    "\n",
    "# Final characteristics after optimization \n",
    "print(\"-----------------------------------------------\")\n",
    "print(\"Final characteristics after optimization :\")\n",
    "\n",
    "SizingDCDC(result, 'Prt')\n",
    "print(\"-----------------------------------------------\")"
   ]
  },
  {
   "cell_type": "markdown",
   "metadata": {
    "slideshow": {
     "slide_type": "slide"
    }
   },
   "source": [
    "## Design graph of the filtering criteria\n",
    "\n",
    "The following figure shows the design graph of a part of the equations representing the calculation of voltage and current ripples in the converter. The voltage ripple has a direct impact on the EMC quality of the converter and is limited for example to 1 or 2% of the DC bus voltage.  \n",
    "**Note:** A more detailed EMC calculation would require a filtering study considering harmonics of current absorbed. \n",
    "\n",
    "![Design Graph Thermal](https://raw.githubusercontent.com/SizingLab/sizing_course/main/laboratories/Lab-watt_project/assets/images/Filter_design_graph.png)\n",
    "\n",
    "> Exercice: analyze the design graph and detect the main design problems.  \n"
   ]
  },
  {
   "cell_type": "code",
   "execution_count": null,
   "metadata": {},
   "outputs": [],
   "source": []
  }
 ],
 "metadata": {
  "celltoolbar": "Slideshow",
  "kernelspec": {
   "display_name": "Python 3 (ipykernel)",
   "language": "python",
   "name": "python3"
  },
  "language_info": {
   "codemirror_mode": {
    "name": "ipython",
    "version": 3
   },
   "file_extension": ".py",
   "mimetype": "text/x-python",
   "name": "python",
   "nbconvert_exporter": "python",
   "pygments_lexer": "ipython3",
   "version": "3.8.13"
  }
 },
 "nbformat": 4,
 "nbformat_minor": 4
}
