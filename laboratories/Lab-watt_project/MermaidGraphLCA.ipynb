{
 "cells": [
  {
   "cell_type": "markdown",
   "id": "e7866f53",
   "metadata": {},
   "source": [
    "flowchart TD\n",
    "    A[Functional Unit] ---| Joules losses + Friction losses\n",
    "    kWh| B[Energy losses]\n",
    "    B ---|T x 0.055\n",
    "    kWh| B1[Joules losses]\n",
    "    B1 ---|T x 0.055\n",
    "    kWh| C1[Electricity production]\n",
    "    B ---|D x Crr x 3.61 x g\n",
    "    kWh| B2[Friction losses]\n",
    "    B2 ---|D x Crr x 3.61 x g\n",
    "    kWh| C2[Electricity production]\n",
    "    A ---|1 unit| D[Inductor]\n",
    "    D ---|2.88 kg| E[Core mass]\n",
    "    D ---|0.72 kg| F[Coil mass]\n",
    "    E ---|2.88 kg| G[Ferrite pots]\n",
    "    F ---|0.72 kg| H[Copper]\n",
    "    style C1 fill:lightgrey\n",
    "    style C2 fill:lightgrey\n",
    "    style G fill:lightgrey\n",
    "    style H fill:lightgrey"
   ]
  }
 ],
 "metadata": {
  "kernelspec": {
   "display_name": "Python 3 (ipykernel)",
   "language": "python",
   "name": "python3"
  },
  "language_info": {
   "codemirror_mode": {
    "name": "ipython",
    "version": 3
   },
   "file_extension": ".py",
   "mimetype": "text/x-python",
   "name": "python",
   "nbconvert_exporter": "python",
   "pygments_lexer": "ipython3",
   "version": "3.10.13"
  }
 },
 "nbformat": 4,
 "nbformat_minor": 5
}
