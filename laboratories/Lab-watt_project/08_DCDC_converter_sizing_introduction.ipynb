{
 "cells": [
  {
   "cell_type": "markdown",
   "metadata": {
    "slideshow": {
     "slide_type": "slide"
    }
   },
   "source": [
    "# Design graphs for the sizing a DC/DC converter\n",
    "*Written by Marc Budinger, INSA Toulouse, France*"
   ]
  },
  {
   "cell_type": "markdown",
   "metadata": {
    "slideshow": {
     "slide_type": "slide"
    }
   },
   "source": [
    "The purpose of this notebook is to structure the sizing procedure of the DC / DC converter.\n",
    "\n",
    "In general, the establishment of a sizing procedure involves the resultion of the following 3 problems:\n",
    "* a set of equations sub-constrained by the addition of a design variable in the optimization problem;\n",
    "* an over-constrained variable by adding a design variable (multiplier) and the transfer of the excess equation(s) in the constrained part of the optimization problem;\n",
    "* an algebraic loop by the use of a simplify equation weighted by a multiplying coefficient and a constraint representing the initial equation.\n"
   ]
  },
  {
   "cell_type": "markdown",
   "metadata": {
    "slideshow": {
     "slide_type": "slide"
    }
   },
   "source": [
    "\n",
    "Where possible:\n",
    "* the design variables must take the form of a normalized variable around 1 (oversize coef. for example) or easily bounded to facilitate the work of the optimization algorithm.\n",
    "* the constraints must take the form of inequality and not of equality more difficult to manage. The optimization of the objective (for example the total mass) will certainly force some (active) constraints to come to an end. "
   ]
  },
  {
   "cell_type": "markdown",
   "metadata": {
    "slideshow": {
     "slide_type": "slide"
    }
   },
   "source": [
    "## Means objective network\n",
    "\n",
    "The purpose of the sizing will be to minimize the mass of the converter. The following graph shows that this mass depends mainly on the losses of the converter by the mass of the dissipator. The switching frequency also influences the mass of the filtering portion of the converter and the switching losses. The latter will therefore be chosen as an optimization variable.\n",
    "\n",
    "Means objective network:   \n",
    "\n",
    "![Means objective network](https://raw.githubusercontent.com/SizingLab/sizing_course/main/laboratories/Lab-watt_project/assets/images/Mermaid_ObjectiveNetwork.svg)"
   ]
  },
  {
   "cell_type": "markdown",
   "metadata": {
    "slideshow": {
     "slide_type": "slide"
    }
   },
   "source": [
    "## Thermal sizing scenario\n",
    "\n",
    "### Design graph\n",
    "\n",
    "The following figure shows the design graph of a part of the equations representing the calculation of the temperatures of the various components of the DC/DC converter.\n",
    "\n",
    "![Graphic Thermal Design](pictures/IGBT_design_graph.png)\n",
    "\n",
    "> Exercise: analyze the design graph and show that there is an algebraic-loop and over-constraints. Propose solutions for these problems.\n"
   ]
  },
  {
   "cell_type": "markdown",
   "metadata": {
    "slideshow": {
     "slide_type": "slide"
    }
   },
   "source": [
    "### Optimization problem: synthesis\n",
    "\n",
    "> Exercice: synthesis here the design variables and the constraints which have to be add to the DC/DC converter optimization problem.\n",
    "\n",
    "![PseudoCode](pictures/PseudoCodeInductor.png)\n",
    "\n"
   ]
  },
  {
   "cell_type": "markdown",
   "metadata": {},
   "source": [
    "### Sizing code and optimization\n",
    "\n",
    "> Exercice: propose a sizing code and a optimization loop for the selection of an IGBT module & a heatsink.\n",
    "\n",
    "The specifications and design assumptions are the following:\n"
   ]
  },
  {
   "cell_type": "code",
   "execution_count": 4,
   "metadata": {},
   "outputs": [],
   "source": [
    "# DC/DC converter Specifications\n",
    "E=150 # [V] DC bus voltage\n",
    "IL=140 # [A] DC current of the load\n",
    "UL=62.25 # [V] DC voltage of the load\n",
    "\n",
    " \n",
    "# Design Assumptions\n",
    "T_amb=40 # [°C] Ambient temperature\n",
    "DE=E*.01 # [V] Max ripple voltage DC bus\n",
    "DIL=IL*.35 # [A] Max ripple current\n",
    "\n",
    "f=10e3 # [Hz] switching frequency\n",
    "Lhs=150 # [mm] Heatsink length"
   ]
  },
  {
   "cell_type": "markdown",
   "metadata": {},
   "source": [
    "For the technical data about the IGBT switchs you have here an example of datasheet for a [reference component](IXYN80N90C3H1.pdf).\n",
    "\n",
    "##### IGBT\n",
    "\n",
    "|                | Scaling laws  | References |\n",
    "| -------------- | --------------| -----------|\n",
    "| Definition parameter : |       |            |\n",
    "| Current | $I$ | $80 A$ |\n",
    "|Maximum voltage | $V_{max}^* = 1$ | $900 V$ |\n",
    "| Voltage drop | $V_0^*=1$ | $1 V$ | \n",
    "| Dynamic resistance | $R_0^*=I^{*-1}$ | 20 m${\\Omega}$ |\n",
    "| Commutation losses | $(E_{on}+E_{off})^*=I^* E^*$ | $8.2 mJ$ for $E=450 V$ |\n",
    "| Thermal resistance | $R_{th_JC}^*=I^{*-1}$ | $0.30 °C/W$ |\n",
    "\n",
    "##### Diode (Current evolution equal to IGBT current) \n",
    "\n",
    "\n",
    "|                | Scaling laws  | References |\n",
    "| -------------- | --------------| -----------|\n",
    "| Definition parameter : |       |            |\n",
    "| Current | $I$ | $41 A$ |\n",
    "| Maximum voltage | $V_{max}^* = 1$ | $900 V$ |\n",
    "| Voltage drop | $V_0^*=1$ | $1 V$ | \n",
    "| Dynamic resistance | $R_0^*=I^{*-1}$ | $15 m\\Omega$ |\n",
    "| Commutation losses | $t_{rr}I_{RM}^{*}=I^*E^*$ | $17.2 mJ$ for $E=600 V$ |\n",
    "| Thermal resistance | $R_{th_JC}^{*}=I^{*-1}$ | $0.47 °C/W$ |\n",
    "\n",
    "More details about the technical informations can be found [here](http://www.ixyspower.com/images/technical_support/Application%20Notes%20By%20Topic/General%20Topics/IXAN0056.pdf).\n",
    "    \n",
    "The following table summarizes the equations which enable to calculate losses in the main components of the converter.\n",
    "\n",
    "|   \t| Inductor  \t| IGBT  \t| Diode  \t| DC Capacitor  \t|\n",
    "|---------------------\t|---------------------\t\t|---------------------\t\t|---------------------\t\t|---------------------\t\t|\n",
    "| Mean current  \t| $I_L$  \t|  $\\alpha I_L$   \t|   $(1-\\alpha)I_L$  \t|   0\t|\n",
    "| RMS current  \t| $I_{L,RMS}$  \t|  $\\sqrt{\\alpha } I_{L,RMS}$ \t|  $\\sqrt{1-\\alpha } I_{L,RMS}$ \t| $\\sqrt{\\alpha \\left(1-\\alpha \\right)} I_{L,RMS}$  \t|\n",
    "| Conduction losses   \t|  $R_{L}I_{RMS}^{2}$ \t|  ${V_{0}}{I_{mean}}+R_{0}I_{RMS}^{2}$ \t| ${V_{0}}{I_{mean}}+R_{0}I_{RMS}^{2}$   \t| $R_{S}I_{RMS}^{2}$  \t|\n",
    "| Commutation losse  \t|  0 \t|  $f(E_{on}+E_{off})$ \t| $\\frac{1}{8} f I_{RM} E t_{rr}$  \t|  0 \t|\n",
    "\n",
    "with : $I_{L,RMS}=I_{L}\\sqrt{1+\\frac{1}{12}\\left(\\frac{\\Delta I_{L}}{I_{L}}\\right)^{2}}$\n",
    " "
   ]
  },
  {
   "cell_type": "code",
   "execution_count": 5,
   "metadata": {},
   "outputs": [],
   "source": [
    "import numpy as np\n",
    "import scipy\n",
    "import scipy.optimize\n",
    "from math import pi, sqrt\n",
    "import timeit\n",
    "\n",
    "\n",
    "def SizingDCDC(param, arg):\n",
    "    # Variables\n",
    "    # ----------------------------------------\n",
    "    #-\n",
    "    T_H=param[0] # [°C] Heatsink temperature (Heatsink)\n",
    "    #-\n",
    "    k_IGBT=param[1] # [-] Oversizing coefficient (IGBT)\n",
    "\n",
    "    \n",
    "    # Main electrical equations\n",
    "    # ----------------------------------------\n",
    "    \n",
    "    # Global\n",
    "    \n",
    "    Alpha=UL/E # [-] Duty cycle\n",
    "    T=1/f # [s] PWM period\n",
    "    \n",
    "     \n",
    "    # RMS and mean value\n",
    "    \n",
    "    IL_max = IL + DIL/2 # [A] Max current (load side) Inductor\n",
    "    IL_RMS = IL*sqrt(1+1/12*(DIL/IL)**2) # [A] RMS current (load side) Inductor\n",
    "    \n",
    "   \n",
    "    I_IGBT_RMS=sqrt(Alpha)*IL_RMS # [A] RMS current IGBT\n",
    "    I_IGBT_mean=Alpha*IL # [A] mean current IGBT\n",
    "    \n",
    "    I_Diode_RMS=sqrt(1-Alpha)*IL_RMS  # [A] RMS current Diode\n",
    "    I_Diode_mean=(1-Alpha)*IL  # [A] mean current Diode\n",
    "     \n",
    "   \n",
    "    # ----------------------------------------\n",
    "    # IGBT module IXYS: 900V max\n",
    "    \n",
    "    I_IGBT_ref=80 # [A] Ref Current of the module\n",
    "    V0_IGBT_ref=1 #[V] voltage drop \n",
    "    R0_IGBT_ref=20e-3 # [Ohm] dynamic resistance\n",
    "    Ecom_IGBT_ref=8.2e-3 # [J] commutation energy ref\n",
    "    E_IGBT_ref=450 # [V] ref voltage for commutation loss\n",
    "    Rth_IGBT_ref=0.3 # [°C/W] thermal resistance\n",
    "    \n",
    "    T_max_IGBT=120 # [°C] max temeprature\n",
    "        \n",
    "    # current estimation\n",
    "    I0=k_IGBT*I_IGBT_RMS \n",
    "    \n",
    "    # IGBT scaling\n",
    "    V0_IGBT=V0_IGBT_ref #[V] voltage drop \n",
    "    R0_IGBT=R0_IGBT_ref*(I0/I_IGBT_ref)**(-1) # [Ohm] R0*=I*^-1\n",
    "    Ecom_IGBT=Ecom_IGBT_ref*(I0*E/(I_IGBT_ref*E_IGBT_ref)) # [J] commutation energy (Eon+Eoff)*=I*E*\n",
    "    Rth_IGBT=Rth_IGBT_ref*(I0/I_IGBT_ref)**(-1) # [°/W] Rth*=I*^(-1)\n",
    "    \n",
    "    # Thermal calculation\n",
    "    Ploss_IGBT=V0_IGBT*I_IGBT_mean+R0_IGBT*I_IGBT_RMS**2+f*Ecom_IGBT # [W] IGBT losses\n",
    "    T_hot_IGBT=T_H + Ploss_IGBT*Rth_IGBT # [°C] IGBT junction temperature\n",
    "    \n",
    "    # Diode of IGBT module IXYS : 900V max  \n",
    "      \n",
    "    I_Diode_ref=41 # [A] Ref Current of the module\n",
    "    V0_Diode_ref=1 #[V] voltage drop \n",
    "    R0_Diode_ref=15e-3 # [Ohm] dynamic resistance\n",
    "    QrrE_ref=17.2e-3 # [J] commutation energy\n",
    "    E_Diode_ref=600 # [V] ref voltage for commutation loss\n",
    "    Rth_Diode_ref=0.47 # [°C/W] thermal resistance\n",
    "\n",
    "    # Diode scaling\n",
    "    V0_Diode=V0_Diode_ref #[V] voltage drop \n",
    "    R0_Diode=R0_Diode_ref*(I0/I_IGBT_ref)**(-1) # [Ohm] R0*=I*^-1\n",
    "    QrrE=QrrE_ref*(I0*E/(I_IGBT_ref*E_Diode_ref)) # [J] commutation energy (trrIrm)*=I*E*\n",
    "    Rth_Diode=Rth_Diode_ref*(I0/I_IGBT_ref)**(-1) # [°/W] Rth*=I*^(-1)\n",
    "\n",
    "    # Thermal calculation\n",
    "    Ploss_Diode=V0_Diode*I_Diode_mean+R0_Diode*I_Diode_RMS**2+f*QrrE # [W] Diode losses\n",
    "    T_hot_Diode=T_H + Ploss_Diode*Rth_Diode  # [°C] Hot spot temperature       \n",
    "    \n",
    "    # ----------------------------------------\n",
    "    # Heatsink : forced convection (2m/s)\n",
    " \n",
    "    # Rth,f = 150*W**(-0.85)*H**(-0.62)*36.7*L**(-0.72) # [°/W] thermal resistance with W,H,L in mm\n",
    "    # Rth,f = 5505*H**(-1.47)*W_H**(-0.85)*L**(-0.72)\n",
    "    RthH=(T_H-T_amb)/(Ploss_Diode+Ploss_IGBT) # [°/W] Thermal resistance target\n",
    "    \n",
    "   \n",
    "    # Objective and contraints\n",
    "    if arg=='Obj':\n",
    "        return 1/RthH\n",
    "    elif arg=='Prt':\n",
    "        print(\"* Assumptions:\")\n",
    "        print(\"           Frequency f= %.2e Hz\"%(f))\n",
    "        print(\"           Ripple current DIL/IL= %.2f %%\"%(DIL/IL*100))\n",
    "        print(\"* Optimisation variables:\")\n",
    "        print(\"           Heatsink temperature (Heatsink) T_H= %.2f [°C]\"%(T_H))\n",
    "        print(\"           Oversizing coefficient (IGBT) k_IGBT= %.2f\"%(k_IGBT))\n",
    "        print(\"* Components characteristics:\")\n",
    "        print(\"           Power = %.2f kW\"%(IL*UL/1e3))\n",
    "        print(\"           Efficiency = %.2f %%\"%((IL*UL)/(IL*UL+(Ploss_Diode+Ploss_IGBT))*100))\n",
    "        print(\"         ---- IGBT + Diode\")\n",
    "        print(\"           Power loss IGBT= %.2f W\"%(Ploss_IGBT))  \n",
    "        print(\"           Power loss Diode= %.2f W\"%(Ploss_Diode))  \n",
    "        print(\"         ---- Heatsink\")\n",
    "        print(\"           Thermal resistance = %.2f K/W\"%(RthH))\n",
    "        print(\"* Constraints (should be >0):\")\n",
    "        print(\"           Temperature margin IBGT= %.3f K\" %(T_max_IGBT-T_hot_IGBT))\n",
    "        print(\"           Temperature margin Diode= %.3f K\" %(T_max_IGBT-T_hot_Diode))\n",
    "    else:\n",
    "        return [T_max_IGBT-T_hot_IGBT,T_max_IGBT-T_hot_Diode]\n",
    "\n",
    "\n"
   ]
  },
  {
   "cell_type": "code",
   "execution_count": 6,
   "metadata": {},
   "outputs": [],
   "source": [
    "#Variables d'optimisation\n",
    "\n",
    "T_H=65 # [°C] Heatsink temperature (Heatsink)\n",
    "#W_H=.1 # [°C] Width W / Height H aspect ratio (Heatsink)\n",
    "k_IGBT=1 # [-] Oversizing coefficient (IGBT)\n",
    "\n",
    "# Vector of parameters\n",
    "parameters = np.array((T_H,k_IGBT))\n"
   ]
  },
  {
   "cell_type": "code",
   "execution_count": 7,
   "metadata": {},
   "outputs": [
    {
     "name": "stdout",
     "output_type": "stream",
     "text": [
      "-----------------------------------------------\n",
      "Initial characteristics before optimization :\n",
      "* Assumptions:\n",
      "           Frequency f= 1.00e+04 Hz\n",
      "           Ripple current DIL/IL= 35.00 %\n",
      "* Optimisation variables:\n",
      "           Heatsink temperature (Heatsink) T_H= 65.00 [°C]\n",
      "           Oversizing coefficient (IGBT) k_IGBT= 1.00\n",
      "* Components characteristics:\n",
      "           Power = 8.71 kW\n",
      "           Efficiency = 94.39 %\n",
      "         ---- IGBT + Diode\n",
      "           Power loss IGBT= 234.11 W\n",
      "           Power loss Diode= 283.96 W\n",
      "         ---- Heatsink\n",
      "           Thermal resistance = 0.05 K/W\n",
      "* Constraints (should be >0):\n",
      "           Temperature margin IBGT= -6.983 K\n",
      "           Temperature margin Diode= -62.784 K\n",
      "-----------------------------------------------\n"
     ]
    }
   ],
   "source": [
    "# Initial characteristics before optimization \n",
    "print(\"-----------------------------------------------\")\n",
    "print(\"Initial characteristics before optimization :\")\n",
    "\n",
    "SizingDCDC(parameters, 'Prt')\n",
    "print(\"-----------------------------------------------\")\n",
    "\n",
    "\n"
   ]
  },
  {
   "cell_type": "code",
   "execution_count": 8,
   "metadata": {},
   "outputs": [
    {
     "name": "stdout",
     "output_type": "stream",
     "text": [
      "Optimization terminated successfully    (Exit mode 0)\n",
      "            Current function value: 11.215106467594092\n",
      "            Iterations: 13\n",
      "            Function evaluations: 41\n",
      "            Gradient evaluations: 13\n",
      "-----------------------------------------------\n",
      "Final characteristics after optimization :\n",
      "* Assumptions:\n",
      "           Frequency f= 1.00e+04 Hz\n",
      "           Ripple current DIL/IL= 35.00 %\n",
      "* Optimisation variables:\n",
      "           Heatsink temperature (Heatsink) T_H= 85.77 [°C]\n",
      "           Oversizing coefficient (IGBT) k_IGBT= 3.66\n",
      "* Components characteristics:\n",
      "           Power = 8.71 kW\n",
      "           Efficiency = 94.44 %\n",
      "         ---- IGBT + Diode\n",
      "           Power loss IGBT= 211.13 W\n",
      "           Power loss Diode= 302.21 W\n",
      "         ---- Heatsink\n",
      "           Thermal resistance = 0.09 K/W\n",
      "* Constraints (should be >0):\n",
      "           Temperature margin IBGT= 18.965 K\n",
      "           Temperature margin Diode= -0.000 K\n",
      "-----------------------------------------------\n"
     ]
    }
   ],
   "source": [
    "# Then we can solve the problem and print of the optimized solution:\n",
    "\n",
    "# In[70]:\n",
    "\n",
    "\n",
    "# optimization with SLSQP algorithm\n",
    "contrainte=lambda x: SizingDCDC(x, 'Const')\n",
    "objectif=lambda x: SizingDCDC(x, 'Obj')\n",
    "result = scipy.optimize.fmin_slsqp(func=objectif, x0=parameters, \n",
    "                                   bounds=[(45,95),(1,10)],\n",
    "                                   f_ieqcons=contrainte, iter=100, acc=1e-8)\n",
    "\n",
    "\n",
    "# Final characteristics after optimization \n",
    "print(\"-----------------------------------------------\")\n",
    "print(\"Final characteristics after optimization :\")\n",
    "\n",
    "SizingDCDC(result, 'Prt')\n",
    "print(\"-----------------------------------------------\")"
   ]
  },
  {
   "cell_type": "markdown",
   "metadata": {
    "slideshow": {
     "slide_type": "slide"
    }
   },
   "source": [
    "## Design graph of the filtering criteria\n",
    "\n",
    "The following figure shows the design graph of a part of the equations representing the calculation of voltage and current ripples in the converter. The voltage ripple has a direct impact on the EMC quality of the converter and is limited for example to 1 or 2% of the DC bus voltage.  \n",
    "**Note:** A more detailed EMC calculation would require a filtering study considering harmonics of current absorbed. \n",
    "\n",
    "![Design Graph Thermal](pictures/Filter_design_graph.png)\n",
    "\n",
    "> Exercice: analyze the design graph and show that there is an algebraic-loop and a under-constraint.  \n"
   ]
  },
  {
   "cell_type": "code",
   "execution_count": null,
   "metadata": {},
   "outputs": [],
   "source": []
  },
  {
   "cell_type": "code",
   "execution_count": null,
   "metadata": {},
   "outputs": [],
   "source": []
  }
 ],
 "metadata": {
  "celltoolbar": "Slideshow",
  "kernelspec": {
   "display_name": "Python 3 (ipykernel)",
   "language": "python",
   "name": "python3"
  },
  "language_info": {
   "codemirror_mode": {
    "name": "ipython",
    "version": 3
   },
   "file_extension": ".py",
   "mimetype": "text/x-python",
   "name": "python",
   "nbconvert_exporter": "python",
   "pygments_lexer": "ipython3",
   "version": "3.8.13"
  }
 },
 "nbformat": 4,
 "nbformat_minor": 4
}
