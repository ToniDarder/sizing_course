{
 "cells": [
  {
   "cell_type": "markdown",
   "metadata": {},
   "source": [
    "# Heatsink  estimation models with simple and multiple linear regressions\n",
    "\n",
    "*Written by Marc Budinger, INSA Toulouse, France*\n",
    "\n",
    "To improve cooling of components heatsinks with natural of forced convection are used. We want to have simple models to make the links between the dimensions, mass, heat resistance and conditions of use of a heatsink.  We will use catalogs data  to establish these estimation models necessary for our study.  \n",
    "This tutorial illustrates how to use simple and multiple linear regressions of catalog data to set up estimation models.\n",
    "\n",
    "*Heatsink*\n",
    "![Heatsink](https://raw.githubusercontent.com/SizingLab/sizing_course/main/laboratories/Lab-watt_project/assets/images/Heatsink.png)\n"
   ]
  },
  {
   "cell_type": "markdown",
   "metadata": {},
   "source": [
    "### Simple linear regression\n",
    "\n",
    "For a heat sink, the relation linking the thermal resistance $R_{th}$, temperature rise $\\Delta T=T_{heatsink}-T_{ambient}$ and power dissipated $P_{th}$ is:  \n",
    "$\\Delta T=T_{heatsink}-T_{ambient} = R_{th}.P_{th}$  \n",
    "\n",
    "The folowing data are from a heat sinks catalog (standard extruded heat sinks of Aavid Thermalloy). The given thermal resisatnce have to be corrected when temperature rise is not equal to 75 °C, the length different of 150 mm, and the speed for forced convection different of 2 m/s. Correction factors are thus discussed in the following sections."
   ]
  },
  {
   "cell_type": "markdown",
   "metadata": {},
   "source": [
    "#### Temperature correction factor \n",
    "Both natural convection and radiation coefficients are related to the sink-to-ambient temperature\n",
    "difference. To evaluate the thermal performance of a heat sink for an application requiring a sink-to-\n",
    "ambient temperature rise other than 75 º C, use the correction factor from the thermal resistance vs (Ts - Ta) graph shown. This factor must be used only for thermal resistance in natural convection.\n",
    "\n",
    "![Temperature Correction Factor](pictures/TemperatureCorrectionFactor.png)"
   ]
  },
  {
   "cell_type": "code",
   "execution_count": null,
   "metadata": {},
   "outputs": [],
   "source": [
    "import numpy as np\n",
    "import matplotlib.pyplot as plt\n",
    "\n",
    "# input data\n",
    "x = np.transpose(np.array([80,75,70,60,50,40,30])) # temperature rise\n",
    "y = np.transpose(np.array([0.99, 1, 1.02, 1.075, 1.15, 1.25, 1.39])) # multiplication factor\n",
    "\n",
    "# plot the data \n",
    "plt.plot(x,y, 'o')\n",
    "plt.xlabel('Temperature rise [°C]')\n",
    "plt.ylabel('Multiplication factor of thermal resistance [-]')\n",
    "plt.grid()\n",
    "plt.show()\n"
   ]
  },
  {
   "cell_type": "markdown",
   "metadata": {},
   "source": [
    "We want to express this relation with a polynomial model:\n",
    "\n",
    "$\\frac{R_{th,n}}{R_{th,n,75^{\\circ} C}}=\\beta _{0}+\\beta _{1}.\\Delta T+\\beta _{2}.\\Delta T^{2}$\n",
    "\n",
    "For this model the relation between data and regression coefficients can be represented with a matrix notation:\n",
    "\n",
    "\\begin{align*}\n",
    "Y=X.\\beta +\\varepsilon\n",
    "\\end{align*}\n",
    "\n",
    "Equivalent to:\n",
    "\n",
    "\\begin{align*}\n",
    "\\left(\\begin{array}{l}\n",
    "y_{1}\\\\\n",
    "\\ldots \\\\\n",
    "y_{p}\n",
    "\\end{array}\\right)=\\left(\\begin{array}{lll}\n",
    "1 & x_{11} & \\ldots \\\\\n",
    "\\ldots & \\ldots & \\ldots \\\\\n",
    "1 & x_{p1} & \\ldots \n",
    "\\end{array}\\right)\\left(\\begin{array}{l}\n",
    "\\beta _{0}\\\\\n",
    "\\ldots \\\\\n",
    "\\beta _{p}\n",
    "\\end{array}\\right)+\\left(\\begin{array}{l}\n",
    "\\varepsilon _{1}\\\\\n",
    "\\ldots \\\\\n",
    "\\varepsilon _{p}\n",
    "\\end{array}\\right)\n",
    "\\end{align*}\n",
    "\n",
    "with:  \n",
    " * $Y$, the output data vector: here $R_{th,n}/R_{th,n,70°C}$  \n",
    " * $X$, the input data matrix: here $\\Delta T$  \n",
    " * $\\beta$, the coefficients of model  \n",
    "\n",
    "> Exercice 1: In the case of least square error assumption, demonstrate that the $\\beta$ vector can be calculated with the following relation: $\\beta=(X^tX)^{-1}X^tY$. Implement this calculation with python numpy functions: matrix products, matrix inversion and matrix tranposition (here a tutorial about [Matrix arithmetic](https://www.python-course.eu/matrix_arithmetic.php)). Plot the regression and the original data on the same plot. "
   ]
  },
  {
   "cell_type": "markdown",
   "metadata": {},
   "source": [
    "> Answer: The errors can be expressed by $\\varepsilon = Y-X\\beta$. To determine the least squares estimator, we write the sum of squares of the residuals:  \n",
    "$S(\\beta)=\\sum\\varepsilon^2=\\varepsilon^t\\varepsilon = (Y-X\\beta)^t(Y-X\\beta)=Y^tY-Y^tX\\beta-\\beta^tX^tY+\\beta^tX^tX\\beta$  \n",
    "The minimum of $S(\\beta)$ is obtained by setting the derivatives of $S(\\beta)$ equal to zero:  \n",
    "\n",
    "> $\\frac{\\partial S(\\varepsilon)}{\\partial \\beta}=-2Y^tX+2X^tX\\beta$  \n",
    "which gives $\\beta=(X^tX)^{-1}X^tY$\n"
   ]
  },
  {
   "cell_type": "code",
   "execution_count": null,
   "metadata": {},
   "outputs": [],
   "source": [
    "# Determination of the least squares estimator with matrix arithmetic\n",
    "\n",
    "# Matrix X and Y\n",
    "X=np.transpose(np.array((np.ones(np.size(x)), x, x**2 )))\n",
    "Y=y.reshape((np.size(x),1))\n",
    "\n",
    "# Vector Beta calculation\n",
    "Beta=np.linalg.inv(np.transpose(X) @ X) @ np.transpose(X) @ y\n",
    "print(\"The parameters are :\",Beta)\n",
    "\n",
    "# Y vector prediction\n",
    "y_est=X @ Beta\n",
    "\n",
    "# plot the data \n",
    "plt.plot(x,y, 'o',x,y_est, '-r')\n",
    "plt.xlabel('Temperature rise [°C]')\n",
    "plt.ylabel('Multiplication factor of thermal resistance [-]')\n",
    "plt.title('Comparison of original data (circles) and OLS regression (red)')\n",
    "plt.grid()\n",
    "plt.show()"
   ]
  },
  {
   "cell_type": "markdown",
   "metadata": {},
   "source": [
    "> Exercice 2: Compare your result with an [Ordinary Least Square](https://www.statsmodels.org/stable/examples/notebooks/generated/ols.html) (OLS) regression function of the [StatsModels](https://www.statsmodels.org/stable/index.html) package.  \n",
    "\n",
    "> Exercice 3: Adapt the linear regression prosses to a power law model  \n",
    "$\\frac{R_{th,n}}{R_{th,n,75^{\\circ} C}}=\\beta _{0}.\\Delta T^{\\beta_{1}}$"
   ]
  },
  {
   "cell_type": "code",
   "execution_count": null,
   "metadata": {},
   "outputs": [],
   "source": [
    "# Determination of the least squares estimator with the OLS function \n",
    "# of the SatsModels package\n",
    "\n",
    "import statsmodels.api as sm\n",
    "\n",
    "model = sm.OLS(Y, X)\n",
    "results = model.fit()\n",
    "\n",
    "print('Parameters: ', results.params)\n",
    "print('R2: ', results.rsquared)\n",
    "\n",
    "# Y vector prediction\n",
    "y_OLS=results.predict(X)\n",
    "\n",
    "# plot the data \n",
    "plt.plot(x,y, 'o',x,y_OLS, '-g')\n",
    "plt.xlabel('Temperature rise [°C]')\n",
    "plt.ylabel('Multiplication factor of thermal resistance [-]')\n",
    "plt.title('Comparison of original data (circles) and OLS regression (red)')\n",
    "plt.grid()\n",
    "plt.show()\n",
    "\n"
   ]
  },
  {
   "cell_type": "code",
   "execution_count": 5,
   "metadata": {},
   "outputs": [
    {
     "name": "stdout",
     "output_type": "stream",
     "text": [
      "The parameters are : [[ 0.6633644 ]\n",
      " [-0.35364883]]\n"
     ]
    },
    {
     "data": {
      "image/png": "[encoded data removed]",
      "text/plain": [
       "<Figure size 432x288 with 1 Axes>"
      ]
     },
     "metadata": {
      "needs_background": "light"
     },
     "output_type": "display_data"
    }
   ],
   "source": [
    "# Power law regression\n",
    "\n",
    "Y_p=np.log10(Y)\n",
    "X_p=np.transpose(np.array((np.ones(np.size(x)), np.log10(x) )))\n",
    "\n",
    "Beta_p=np.linalg.inv(np.transpose(X_p) @ X_p) @ np.transpose(X_p) @ Y_p\n",
    "print(\"The parameters are :\",Beta_p)\n",
    "\n",
    "# Y vector prediction\n",
    "y_est_p=10**(X_p @ Beta_p)\n",
    "\n",
    "# plot the data \n",
    "plt.plot(x,y, 'o',x,y_est_p, '-g')\n",
    "plt.xlabel('Temperature rise [°C]')\n",
    "plt.ylabel('Multiplication factor of thermal resistance [-]')\n",
    "plt.title('Comparison of original data (circles) and OLS regression (red)')\n",
    "plt.grid()\n",
    "plt.show()"
   ]
  },
  {
   "cell_type": "markdown",
   "metadata": {},
   "source": [
    "#### Length correction factor\n",
    "Because the air heats up while circulating through the extrusion, the convection coefficient is not constant throughout the extrusion length. Therefore, the thermal resistance changes nonlinearly as the length changes. To calculate the correct thermal resistance for extrusion lengths other than the standard 150 mm length, multiply\n",
    "the given thermal resistance data by the appropriate factor taken from the thermal resistance vs length graph shown. The same correction factor must be used for thermal resistance in both natural convection and forced convection.\n",
    "\n",
    "![Length correction factor](pictures/LengthCorrectionFactor.png)"
   ]
  },
  {
   "cell_type": "markdown",
   "metadata": {},
   "source": [
    "> Exercice : Express this relation with a power law model:\n",
    "$\\frac{R_{th}}{R_{th,150mm^{\\circ} C}}=k.L^a$  "
   ]
  },
  {
   "cell_type": "code",
   "execution_count": 6,
   "metadata": {},
   "outputs": [
    {
     "name": "stdout",
     "output_type": "stream",
     "text": [
      "Parameters:  [ 1.60057829 -0.73345535]\n",
      "R2:  0.9991401923462344\n",
      "The estimation function is: Rth/Rth,150mm = 39.9.L^-0.73\n",
      "with L in mm\n"
     ]
    }
   ],
   "source": [
    "# input data\n",
    "x = np.transpose(np.array([50,100,150,200,250,300,350,400])) # temperature rise\n",
    "y = np.transpose(np.array([2.3, 1.35, 1, 0.8, .7, 0.6, .55, .5])) # multiplication factor\n",
    " \n",
    "# Matrix X and Y\n",
    "X=np.transpose(np.array((np.ones(np.size(x)), np.log10(x))))\n",
    "Y=np.log10(y).reshape((np.size(x),1))\n",
    "\n",
    "modelL = sm.OLS(Y, X)\n",
    "resultsL = modelL.fit()\n",
    "\n",
    "print('Parameters: ', resultsL.params)\n",
    "print('R2: ', resultsL.rsquared)\n",
    "\n",
    "print('The estimation function is: Rth/Rth,150mm = %.3g.L^%.2f'%(10**resultsL.params[0],resultsL.params[1]))\n",
    "print('with L in mm')"
   ]
  },
  {
   "cell_type": "markdown",
   "metadata": {},
   "source": [
    "#### Air speed correction factor \n",
    "The convection coefficient is also closely related to the air speed through the fins. Since evaluation of\n",
    "air speed through the fins is difficult to evaluate under normal circumstances, we show the thermal resistance of an extrusion in forced convection evaluated using a tunnel the same size as the extrusion. For a tunnel airflow other than 2 m/s, refer to the factor in the thermal resistance vs air speed graph shown. Use this factor to figure\n",
    "thermal resistance in forced convection.\n",
    "\n",
    "![Length correction factor](pictures/SpeedCorrectionFactor.png)"
   ]
  },
  {
   "cell_type": "markdown",
   "metadata": {},
   "source": [
    "> Exercice : Express this relation with a polynomial model:\n",
    "$\\frac{R_{th,f}}{R_{th,f,2m/s^{\\circ} C}}=\\beta _{0}+\\beta _{1}.v+\\beta _{2}.v^{2}$  "
   ]
  },
  {
   "cell_type": "code",
   "execution_count": 7,
   "metadata": {},
   "outputs": [
    {
     "name": "stdout",
     "output_type": "stream",
     "text": [
      "Parameters:  [ 1.60057829 -0.73345535]\n",
      "R2:  0.9991401923462344\n"
     ]
    }
   ],
   "source": [
    "# input data\n",
    "x = np.transpose(np.array([80,75,70,60,50,40,30])) # temperature rise\n",
    "y = np.transpose(np.array([0.99, 1, 1.02, 1.075, 1.15, 1.25, 1.39])) # multiplication factor\n",
    "\n",
    "model = sm.OLS(Y, X)\n",
    "results = model.fit()\n",
    "\n",
    "print('Parameters: ', results.params)\n",
    "print('R2: ', results.rsquared)"
   ]
  },
  {
   "cell_type": "markdown",
   "metadata": {},
   "source": [
    "### Thermal resistance : Identification of the most important dimensions\n",
    "\n",
    "The objective of the estimation model sought here is to evaluate the thermal resistance in natural convection of a heat sink $R_{th,n}$ according to its dimensions (see Figure below). The statistical data are from a heat sinks catalog (standard extruded heat sinks of [Aavid Thermalloy](https://www.boydcorp.com/thermal/heat-sinks/extruded.html)). \n",
    "\n",
    "*Section of a heat sink (Length L)*\n",
    "![HeatsinkSection](pictures/HeatsinkSection.png)\n"
   ]
  },
  {
   "cell_type": "markdown",
   "metadata": {},
   "source": [
    "The first step is to import catalog data stored in a .csv file. We use for that functions from [Panda](https://pandas.pydata.org/index.html) package (with here an [introduction to panda](https://jakevdp.github.io/PythonDataScienceHandbook/03.00-introduction-to-pandas.html)).  \n",
    "All heatsinks have the same length *L* = 150 mm. *Ml* corresponds to the lineic mass (kg/m) of the extruded heatsink."
   ]
  },
  {
   "cell_type": "code",
   "execution_count": 8,
   "metadata": {},
   "outputs": [
    {
     "data": {
      "text/html": [
       "<div>\n",
       "<style scoped>\n",
       "    .dataframe tbody tr th:only-of-type {\n",
       "        vertical-align: middle;\n",
       "    }\n",
       "\n",
       "    .dataframe tbody tr th {\n",
       "        vertical-align: top;\n",
       "    }\n",
       "\n",
       "    .dataframe thead th {\n",
       "        text-align: right;\n",
       "    }\n",
       "</style>\n",
       "<table border=\"1\" class=\"dataframe\">\n",
       "  <thead>\n",
       "    <tr style=\"text-align: right;\">\n",
       "      <th></th>\n",
       "      <th>Rthn</th>\n",
       "      <th>Rthf</th>\n",
       "      <th>W</th>\n",
       "      <th>H</th>\n",
       "      <th>Wf</th>\n",
       "      <th>Df</th>\n",
       "      <th>Hs</th>\n",
       "      <th>Ml</th>\n",
       "    </tr>\n",
       "  </thead>\n",
       "  <tbody>\n",
       "    <tr>\n",
       "      <th>0</th>\n",
       "      <td>13.20</td>\n",
       "      <td>5.15</td>\n",
       "      <td>19.0</td>\n",
       "      <td>4.8</td>\n",
       "      <td>0.6</td>\n",
       "      <td>1.9</td>\n",
       "      <td>1.1</td>\n",
       "      <td>0.17</td>\n",
       "    </tr>\n",
       "    <tr>\n",
       "      <th>1</th>\n",
       "      <td>11.37</td>\n",
       "      <td>3.82</td>\n",
       "      <td>19.0</td>\n",
       "      <td>6.0</td>\n",
       "      <td>0.8</td>\n",
       "      <td>2.3</td>\n",
       "      <td>1.1</td>\n",
       "      <td>0.15</td>\n",
       "    </tr>\n",
       "    <tr>\n",
       "      <th>2</th>\n",
       "      <td>0.98</td>\n",
       "      <td>0.46</td>\n",
       "      <td>134.3</td>\n",
       "      <td>19.2</td>\n",
       "      <td>1.6</td>\n",
       "      <td>10.8</td>\n",
       "      <td>4.0</td>\n",
       "      <td>2.34</td>\n",
       "    </tr>\n",
       "    <tr>\n",
       "      <th>3</th>\n",
       "      <td>8.79</td>\n",
       "      <td>3.06</td>\n",
       "      <td>24.0</td>\n",
       "      <td>7.3</td>\n",
       "      <td>1.5</td>\n",
       "      <td>3.8</td>\n",
       "      <td>2.3</td>\n",
       "      <td>0.29</td>\n",
       "    </tr>\n",
       "    <tr>\n",
       "      <th>4</th>\n",
       "      <td>7.52</td>\n",
       "      <td>3.83</td>\n",
       "      <td>37.5</td>\n",
       "      <td>3.1</td>\n",
       "      <td>1.0</td>\n",
       "      <td>2.6</td>\n",
       "      <td>1.1</td>\n",
       "      <td>0.18</td>\n",
       "    </tr>\n",
       "  </tbody>\n",
       "</table>\n",
       "</div>"
      ],
      "text/plain": [
       "    Rthn  Rthf      W     H   Wf    Df   Hs    Ml\n",
       "0  13.20  5.15   19.0   4.8  0.6   1.9  1.1  0.17\n",
       "1  11.37  3.82   19.0   6.0  0.8   2.3  1.1  0.15\n",
       "2   0.98  0.46  134.3  19.2  1.6  10.8  4.0  2.34\n",
       "3   8.79  3.06   24.0   7.3  1.5   3.8  2.3  0.29\n",
       "4   7.52  3.83   37.5   3.1  1.0   2.6  1.1  0.18"
      ]
     },
     "execution_count": 8,
     "metadata": {},
     "output_type": "execute_result"
    }
   ],
   "source": [
    "# Import Heatsink data\n",
    "\n",
    "# Panda package Importation\n",
    "import pandas as pd\n",
    "\n",
    "# Read the .csv file with bearing data\n",
    "path='https://raw.githubusercontent.com/SizingLab/sizing_course/main/laboratories/Lab-watt_project/assets/data/'\n",
    "dHS = pd.read_csv(path+'DataHeatsink_Lcst.csv', sep=';')\n",
    "\n",
    "# Print the head (first lines of the file)\n",
    "dHS.head()\n"
   ]
  },
  {
   "cell_type": "markdown",
   "metadata": {},
   "source": [
    "> Exercice: By using a correlation analysis or a scatter matrix (here [examples](http://benalexkeen.com/correlation-in-python/)), identify the most important dimensions among $W, H, W_f, H_f, H_s$. A log transformation can be usefull because of the large range of data."
   ]
  },
  {
   "cell_type": "code",
   "execution_count": 13,
   "metadata": {},
   "outputs": [
    {
     "data": {
      "image/png": "[encoded data removed]",
      "text/plain": [
       "<Figure size 288x288 with 2 Axes>"
      ]
     },
     "metadata": {
      "needs_background": "light"
     },
     "output_type": "display_data"
    },
    {
     "data": {
      "image/png": "[encoded data removed]",
      "text/plain": [
       "<Figure size 432x288 with 64 Axes>"
      ]
     },
     "metadata": {
      "needs_background": "light"
     },
     "output_type": "display_data"
    }
   ],
   "source": [
    "# log transformation of the data\n",
    "dHSlog=pd.DataFrame(data=np.log10(dHS.values), columns=dHS.columns)\n",
    "\n",
    "# Correlation matrix\n",
    "plt.matshow(dHSlog.corr(), cmap='hot')\n",
    "plt.xticks(range(len(dHS.columns)), dHS.columns)\n",
    "plt.yticks(range(len(dHS.columns)), dHS.columns)\n",
    "plt.colorbar()\n",
    "plt.show()\n",
    "\n",
    "# Scatter matrix\n",
    "pd.plotting.scatter_matrix(dHSlog)\n",
    "plt.show()"
   ]
  },
  {
   "cell_type": "code",
   "execution_count": 14,
   "metadata": {},
   "outputs": [
    {
     "data": {
      "text/html": [
       "<div>\n",
       "<style scoped>\n",
       "    .dataframe tbody tr th:only-of-type {\n",
       "        vertical-align: middle;\n",
       "    }\n",
       "\n",
       "    .dataframe tbody tr th {\n",
       "        vertical-align: top;\n",
       "    }\n",
       "\n",
       "    .dataframe thead th {\n",
       "        text-align: right;\n",
       "    }\n",
       "</style>\n",
       "<table border=\"1\" class=\"dataframe\">\n",
       "  <thead>\n",
       "    <tr style=\"text-align: right;\">\n",
       "      <th></th>\n",
       "      <th>Rthn</th>\n",
       "      <th>Rthf</th>\n",
       "      <th>W</th>\n",
       "      <th>H</th>\n",
       "      <th>Wf</th>\n",
       "      <th>Df</th>\n",
       "      <th>Hs</th>\n",
       "      <th>Ml</th>\n",
       "    </tr>\n",
       "  </thead>\n",
       "  <tbody>\n",
       "    <tr>\n",
       "      <th>Rthn</th>\n",
       "      <td>1.000000</td>\n",
       "      <td>0.982988</td>\n",
       "      <td>-0.941497</td>\n",
       "      <td>-0.772130</td>\n",
       "      <td>-0.641824</td>\n",
       "      <td>-0.601228</td>\n",
       "      <td>-0.720154</td>\n",
       "      <td>-0.972432</td>\n",
       "    </tr>\n",
       "    <tr>\n",
       "      <th>Rthf</th>\n",
       "      <td>0.982988</td>\n",
       "      <td>1.000000</td>\n",
       "      <td>-0.921047</td>\n",
       "      <td>-0.795847</td>\n",
       "      <td>-0.638099</td>\n",
       "      <td>-0.551368</td>\n",
       "      <td>-0.753251</td>\n",
       "      <td>-0.983578</td>\n",
       "    </tr>\n",
       "    <tr>\n",
       "      <th>W</th>\n",
       "      <td>-0.941497</td>\n",
       "      <td>-0.921047</td>\n",
       "      <td>1.000000</td>\n",
       "      <td>0.538247</td>\n",
       "      <td>0.539831</td>\n",
       "      <td>0.635455</td>\n",
       "      <td>0.578804</td>\n",
       "      <td>0.896725</td>\n",
       "    </tr>\n",
       "    <tr>\n",
       "      <th>H</th>\n",
       "      <td>-0.772130</td>\n",
       "      <td>-0.795847</td>\n",
       "      <td>0.538247</td>\n",
       "      <td>1.000000</td>\n",
       "      <td>0.724113</td>\n",
       "      <td>0.394089</td>\n",
       "      <td>0.868716</td>\n",
       "      <td>0.841858</td>\n",
       "    </tr>\n",
       "    <tr>\n",
       "      <th>Wf</th>\n",
       "      <td>-0.641824</td>\n",
       "      <td>-0.638099</td>\n",
       "      <td>0.539831</td>\n",
       "      <td>0.724113</td>\n",
       "      <td>1.000000</td>\n",
       "      <td>0.660137</td>\n",
       "      <td>0.705544</td>\n",
       "      <td>0.720821</td>\n",
       "    </tr>\n",
       "    <tr>\n",
       "      <th>Df</th>\n",
       "      <td>-0.601228</td>\n",
       "      <td>-0.551368</td>\n",
       "      <td>0.635455</td>\n",
       "      <td>0.394089</td>\n",
       "      <td>0.660137</td>\n",
       "      <td>1.000000</td>\n",
       "      <td>0.419632</td>\n",
       "      <td>0.570614</td>\n",
       "    </tr>\n",
       "    <tr>\n",
       "      <th>Hs</th>\n",
       "      <td>-0.720154</td>\n",
       "      <td>-0.753251</td>\n",
       "      <td>0.578804</td>\n",
       "      <td>0.868716</td>\n",
       "      <td>0.705544</td>\n",
       "      <td>0.419632</td>\n",
       "      <td>1.000000</td>\n",
       "      <td>0.829186</td>\n",
       "    </tr>\n",
       "    <tr>\n",
       "      <th>Ml</th>\n",
       "      <td>-0.972432</td>\n",
       "      <td>-0.983578</td>\n",
       "      <td>0.896725</td>\n",
       "      <td>0.841858</td>\n",
       "      <td>0.720821</td>\n",
       "      <td>0.570614</td>\n",
       "      <td>0.829186</td>\n",
       "      <td>1.000000</td>\n",
       "    </tr>\n",
       "  </tbody>\n",
       "</table>\n",
       "</div>"
      ],
      "text/plain": [
       "          Rthn      Rthf         W         H        Wf        Df        Hs  \\\n",
       "Rthn  1.000000  0.982988 -0.941497 -0.772130 -0.641824 -0.601228 -0.720154   \n",
       "Rthf  0.982988  1.000000 -0.921047 -0.795847 -0.638099 -0.551368 -0.753251   \n",
       "W    -0.941497 -0.921047  1.000000  0.538247  0.539831  0.635455  0.578804   \n",
       "H    -0.772130 -0.795847  0.538247  1.000000  0.724113  0.394089  0.868716   \n",
       "Wf   -0.641824 -0.638099  0.539831  0.724113  1.000000  0.660137  0.705544   \n",
       "Df   -0.601228 -0.551368  0.635455  0.394089  0.660137  1.000000  0.419632   \n",
       "Hs   -0.720154 -0.753251  0.578804  0.868716  0.705544  0.419632  1.000000   \n",
       "Ml   -0.972432 -0.983578  0.896725  0.841858  0.720821  0.570614  0.829186   \n",
       "\n",
       "            Ml  \n",
       "Rthn -0.972432  \n",
       "Rthf -0.983578  \n",
       "W     0.896725  \n",
       "H     0.841858  \n",
       "Wf    0.720821  \n",
       "Df    0.570614  \n",
       "Hs    0.829186  \n",
       "Ml    1.000000  "
      ]
     },
     "execution_count": 14,
     "metadata": {},
     "output_type": "execute_result"
    }
   ],
   "source": [
    "dHSlog.corr()"
   ]
  },
  {
   "cell_type": "markdown",
   "metadata": {},
   "source": [
    "#### Natural thermal resistance : Multiple linear regression\n",
    "\n",
    "We want to perform here a multiple linear regression to determine an estimation model of the form.  \n",
    "$R_{th,n}=aX^{b}Y^{c}$\n",
    "\n",
    "where:\n",
    " * ${a, b, c}$ are the coefficients of the model\n",
    "\n",
    " * ${X, Y}$ are the most influential dimensions.\n",
    "\n",
    "> Exercice: Perform this multiple linear regression with the [StatsModels](https://www.statsmodels.org/stable/index.html) package and dedicated transformations.\n"
   ]
  },
  {
   "cell_type": "code",
   "execution_count": 10,
   "metadata": {},
   "outputs": [
    {
     "name": "stdout",
     "output_type": "stream",
     "text": [
      "Parameters:  [ 2.685738   -0.91835926 -0.55758774]\n",
      "R2: 0.986\n",
      "The estimation function is: Rth,n = 485.W^-0.92.H^-0.56\n",
      "with Rth,n in [°/W], W,H in [mm] and L=150 mm\n"
     ]
    }
   ],
   "source": [
    "# Determination of the least squares estimator with the OLS function \n",
    "# of the SatsModels package\n",
    "\n",
    "# Generation of Y and X matrix\n",
    "YHS=dHSlog['Rthn'].values\n",
    "YHS=YHS.reshape((np.size(YHS),1))\n",
    "XHS=np.transpose(np.array((np.ones(np.size(dHSlog['W'].values)), dHSlog['W'].values, dHSlog['H'].values)))\n",
    "\n",
    "# OLS regression\n",
    "modelHS = sm.OLS(YHS, XHS)\n",
    "resultHS = modelHS.fit()\n",
    "\n",
    "# Results print\n",
    "print('Parameters: ', resultHS.params)\n",
    "print('R2: %.3f'% resultHS.rsquared)\n",
    "\n",
    "print('The estimation function is: Rth,n = %.3g.W^%.2f.H^%3.2f'\n",
    "      %(10**resultHS.params[0],resultHS.params[1],resultHS.params[2]))\n",
    "print('with Rth,n in [°/W], W,H in [mm] and L=150 mm')"
   ]
  },
  {
   "cell_type": "code",
   "execution_count": 11,
   "metadata": {},
   "outputs": [
    {
     "data": {
      "image/png": "[encoded data removed]",
      "text/plain": [
       "<Figure size 432x288 with 1 Axes>"
      ]
     },
     "metadata": {
      "needs_background": "light"
     },
     "output_type": "display_data"
    }
   ],
   "source": [
    "# Y vector prediction\n",
    "y_HS=10**(resultHS.predict(XHS))\n",
    "\n",
    "# plot the data \n",
    "#plt.plot(dHS['Rthn'].values,dHS['Rthn'].values, '-',dHS['Rthn'].values,y_HS, 'o')\n",
    "plt.plot(dHS['Rthn'].values,dHS['Rthn'].values, '-')\n",
    "plt.plot(dHS['Rthn'].values,y_HS, 'x')\n",
    "plt.xlabel('Catalog data')\n",
    "plt.ylabel('Prediction')\n",
    "plt.title('Natural convection thermal resistance (°/W)')\n",
    "plt.grid()\n",
    "plt.show()"
   ]
  },
  {
   "cell_type": "markdown",
   "metadata": {},
   "source": [
    "#### Estimation models for lineic mass and forced convective thermal resistance\n",
    "\n",
    "> Exercice: Perform the regressions in order to generate estimation models for lineic mass and forced convective thermal resistance .\n"
   ]
  },
  {
   "cell_type": "code",
   "execution_count": 12,
   "metadata": {},
   "outputs": [
    {
     "name": "stdout",
     "output_type": "stream",
     "text": [
      "Parameters:  [ 2.17619395 -0.84842184 -0.62180147]\n",
      "R2: 0.975\n",
      "------------------\n",
      "The estimation function is: Rth,f = 1.500e+02.W^-0.85.H^-0.62\n",
      "with Rth,f in [°/W], W,H in [mm] and L=150 mm\n",
      "with R2: 0.975\n",
      "------------------\n",
      "The estimation function is: Ml = 2.632e-03.W^0.91.H^0.89\n",
      "with Ml in [kg/m], W,H in [mm]\n",
      "with R2: 0.986\n"
     ]
    }
   ],
   "source": [
    "# Forced convection\n",
    "\n",
    "# Generation of Y and X matrix\n",
    "YHS_f=dHSlog['Rthf'].values\n",
    "\n",
    "# OLS regression\n",
    "modelHS_f = sm.OLS(YHS_f, XHS)\n",
    "resultHS_f = modelHS_f.fit()\n",
    "\n",
    "\n",
    "print('Parameters: ', resultHS_f.params)\n",
    "print('R2: %.3f'% resultHS_f.rsquared)\n",
    "\n",
    "# Results print\n",
    "print('------------------')\n",
    "print('The estimation function is: Rth,f = %.3e.W^%.2f.H^%3.2f'\n",
    "      %(10**resultHS_f.params[0],resultHS_f.params[1],resultHS_f.params[2]))\n",
    "print('with Rth,f in [°/W], W,H in [mm] and L=150 mm')\n",
    "print('with R2: %.3f'% resultHS_f.rsquared)\n",
    "\n",
    "# Lineic Mass\n",
    "\n",
    "# Generation of Y and X matrix\n",
    "YHS_ML=dHSlog['Ml'].values\n",
    "\n",
    "# OLS regression\n",
    "modelHS_ML = sm.OLS(YHS_ML, XHS)\n",
    "resultHS_ML = modelHS_ML.fit()\n",
    "\n",
    "# Results print\n",
    "print('------------------')\n",
    "print('The estimation function is: Ml = %.3e.W^%.2f.H^%3.2f'\n",
    "      %(10**resultHS_ML.params[0],resultHS_ML.params[1],resultHS_ML.params[2]))\n",
    "print('with Ml in [kg/m], W,H in [mm]')\n",
    "print('with R2: %.3f'% resultHS_ML.rsquared)"
   ]
  },
  {
   "cell_type": "code",
   "execution_count": 12,
   "metadata": {},
   "outputs": [
    {
     "data": {
      "image/png": "[encoded data removed]",
      "text/plain": [
       "<matplotlib.figure.Figure at 0x2ade6be9908>"
      ]
     },
     "metadata": {},
     "output_type": "display_data"
    }
   ],
   "source": [
    "# Y vector prediction\n",
    "y_HSf=10**(resultHS_f.predict(XHS))\n",
    "\n",
    "# plot the data \n",
    "#plt.plot(dHS['Rthn'].values,dHS['Rthn'].values, '-',dHS['Rthn'].values,y_HS, 'o')\n",
    "plt.plot(dHS['Rthf'].values,dHS['Rthf'].values, '-')\n",
    "plt.plot(dHS['Rthf'].values,y_HSf, 'x')\n",
    "plt.xlabel('Catalog data')\n",
    "plt.ylabel('Prediction')\n",
    "plt.title('Forced convection thermal resistance (°/W)')\n",
    "plt.grid()\n",
    "plt.show()"
   ]
  },
  {
   "cell_type": "code",
   "execution_count": 13,
   "metadata": {},
   "outputs": [
    {
     "data": {
      "text/plain": [
       "0.26251635741381324"
      ]
     },
     "execution_count": 13,
     "metadata": {},
     "output_type": "execute_result"
    }
   ],
   "source": [
    "1.500e+02*197**(-0.85)*20**(-0.62)"
   ]
  },
  {
   "cell_type": "code",
   "execution_count": null,
   "metadata": {},
   "outputs": [],
   "source": []
  }
 ],
 "metadata": {
  "kernelspec": {
   "display_name": "Python 3 (ipykernel)",
   "language": "python",
   "name": "python3"
  },
  "language_info": {
   "codemirror_mode": {
    "name": "ipython",
    "version": 3
   },
   "file_extension": ".py",
   "mimetype": "text/x-python",
   "name": "python",
   "nbconvert_exporter": "python",
   "pygments_lexer": "ipython3",
   "version": "3.8.13"
  }
 },
 "nbformat": 4,
 "nbformat_minor": 4
}
