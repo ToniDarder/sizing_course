{
 "cells": [
  {
   "cell_type": "markdown",
   "metadata": {},
   "source": [
    "![Sizing Lab](https://raw.githubusercontent.com/SizingLab/sizing_course/main/laboratories/Lab-watt_project/assets/images/Baniere.png)"
   ]
  },
  {
   "cell_type": "markdown",
   "metadata": {},
   "source": [
    "# Sustainable mobilities\n",
    "\n",
    "*Written by Marc Budinger, INSA Toulouse, France*\n",
    "\n",
    "This course is dedicated to the eco-design and Life Cycle Assessment of technological systems dedicated to sustainable mobility. This notebook is devoted to the transportation context and evolution. This introduction draws heavily on the analyses carried out in Aurelien Bigo's [thesis](http://www.chair-energy-prosperity.org/publications/travail-de-these-decarboner-transports-dici-2050/):\n",
    "\n",
    "> Bigo, A. (2020). Transport facing the challenge of energy transition. Explorations between the past and the future, technology and sufficiency, acceleration and slowdown (Doctoral dissertation, Institut Polytechnique de Paris)."
   ]
  },
  {
   "cell_type": "markdown",
   "metadata": {},
   "source": [
    "###  National Low Carbon Strategy\n",
    "\n",
    "The National Low-Carbon Strategy ([SNBC](https://www.ecologie.gouv.fr/sites/default/files/19092_strategie-carbone-EN_oct-20.pdf)) is France's roadmap for reducing its greenhouse gas (GHG) emissions. It concerns all sectors of activity and must be supported by everyone: citizens, local authorities and businesses. The aim is to reduce greenhouse gas emissions by a factor of 5 by 2050, compared with 2015 levels. Transport accounts for a significant proportion of these emissions (around 30%) and will therefore have to change if we are to meet these targets. \n",
    "\n",
    "*GreenHouse Gas (GHG) emmissions and absorption in France in 2017 - SNCB prospective scenario of achieving carbon neutrality by 2050* \n",
    "![SNCB](https://raw.githubusercontent.com/SizingLab/sizing_course/main/laboratories/Lab-watt_project/assets/images/French_SNCB.png)\n"
   ]
  },
  {
   "cell_type": "markdown",
   "metadata": {},
   "source": [
    "### Breakdown of the evolution of greenhouse gas emissions from transport\n",
    "\n",
    "Index decomposition analyses (IDA) are used to characterise the factors that explain environmental impacts. The IPAT identity is expressed as follows:  \n",
    "  \n",
    "$Impact = Population \\times Affluence \\times Technology$    \n",
    "  \n",
    "The \"Affluence\" factor characterizes wealth per person. Japanese researcher Yoichi Kaya proposed an adaptation of this indicator to break down an economy's CO2 emissions at an IPCC (Intergovernmental Panel on Climate Change) conference. Kaya's identity breaks down CO2 emissions into four factors: population (Pop), wealth or GDP (gross domestic product) per person, the energy efficiency of the economy, and the carbon intensity of energy:  \n",
    "  \n",
    "$CO_2=Pop \\times \\frac{PIB}{Pop} \\times \\frac{Energy}{PIB} \\times \\frac{CO_2}{Energy}$  \n",
    "  \n",
    "The identity retained in Aurélien Bigo's study on the CO2 impact of transport retains five factors which are demand, modal shift, occupancy rate, energy efficiency and carbon intensity. The decomposition is also done by adding the effects of each mode of transport:  \n",
    "\n",
    "$CO2_{Transport} = \\sum D \\times \\frac{D_i}{D} \\times \\frac{C_i}{D_i} \\times \\frac{E_i}{C_i} \\times \\frac{CO2_i}{E_i}$  \n",
    "\n",
    "With:  \n",
    "- $D$: the demand for passenger or goods transport (voy.km or t.km), i.e. the number of kilometers traveled by travelers and by tonnes of goods transported, with 1 t.km = 1 ton of goods traveling 1 km.\n",
    "- $D_i$: mode i transport request (voy.km or t.km)\n",
    "- $C_i$: circulation of mode i vehicles (veh.km: vehicle.kilometer)\n",
    "- $E_i$: energy consumed by mode i (toe: tonne of oil equivalent)\n",
    "- $CO_{2,i}$: CO2 emissions from mode i (tCO2: ton of CO2)\n",
    "\n",
    "*The five key levers for decarbonizing transport, used in the breakdown of emissions*\n",
    "![Levers](https://raw.githubusercontent.com/SizingLab/sizing_course/main/laboratories/Lab-watt_project/assets/images/TransportCO2.png)\n",
    "![Levers](./assets/images/TransportCO2.png)\n"
   ]
  },
  {
   "cell_type": "markdown",
   "metadata": {},
   "source": [
    "### Analysis of the evolution of transport emissions over the period 1960-2017\n",
    "\n",
    "The graph below represents the multiplicative decomposition of the evolution of CO2 emissions from the transport of people and goods from 1960 to 2017. Demand was the main factor explaining the development of emissions over the period, for both passenger and freight transport. The decoupling between demand and emissions is very weak over the period, the other factors having largely offset each other: the factors increasing emissions are the modal shift and the filling of cars, while the filling of heavy goods vehicles, energy efficiency, and carbon intensity is declining.\n",
    "\n",
    "*Multiplicative decomposition of the evolution of CO2 emissions from passenger and goods transport, 1960-2017*\n",
    "\n",
    "![Global CO2](https://raw.githubusercontent.com/SizingLab/sizing_course/main/laboratories/Lab-watt_project/assets/images/CO2Indicator.png)\n",
    "\n",
    "It is possible to carry out an analysis by development factors and means of transport. The following graphs illustrate in particular over this same period 1960-2017:\n",
    "- evolution of demand by means of transport\n",
    "- the modal shares of modes of transport of goods in France\n",
    "- the average occupancy of all land passenger and goods transport (passenger average = road + rail, excluding air and active modes; goods average = all modes)\n",
    "- the evolution of energy efficiency per transported unit (in gep/voy.km for passengers or gep/t.km for goods)\n",
    "- the evolution of the carbon intensity of energy for different modes compared to 1960\n",
    "\n",
    "*Evolution of the development factors and means of transport, 1960-2017*\n",
    "\n",
    "![CO2 Per Levers](https://raw.githubusercontent.com/SizingLab/sizing_course/main/laboratories/Lab-watt_project/assets/images/Demande.png)\n",
    "![CO2 Per Levers](https://raw.githubusercontent.com/SizingLab/sizing_course/main/laboratories/Lab-watt_project/assets/images/CO2PerLever.png)\n",
    "\n",
    "We can note in particular that:\n",
    "- Transport demand has been the main driver of changes in emissions in the past. It is influenced by many short and long term factors: population, GDP, fuel prices, land use planning, speed and costs of transport, etc.\n",
    "- The modal shift was mainly towards road modes over the period, despite a slight shift towards trains for travelers since the end of the 1990s.\n",
    "- The vehicle occupancy rate has improved for almost all modes with more capacity vehicles, except for cars which are an exception.\n",
    "- The energy efficiency of vehicles has steadily improved, partly offset by significant increases in weight and filling for certain modes.\n",
    "- Carbon intensity has changed little over the period, apart from the end of coal in the railways in the early 1970s, and the development of biofuels, the life cycle analysis of which actually shows emissions similar to oil."
   ]
  },
  {
   "cell_type": "markdown",
   "metadata": {},
   "source": [
    "### Objective et course layout\n",
    "\n",
    "This course aims to provide tools to engineers wanting to participate in the eco-design of new modes of transport. The case studies will notably deal with technological systems allowing:\n",
    "- a modal shift from the car to public transport with high occupancy rate as electrical bus.\n",
    "- electrification of this public transport while minimizing the need for new heavy infrastructure as catenaries or ground power systems.\n",
    "- optimization of energy efficiency thanks regenerative braking.\n",
    "- minimization of carbon intensity over the entire life cycle.\n",
    "\n",
    "Global course outline for systems engineering students:\n",
    "- [Case study presentation](./01a_CaseStudy.ipynb)\n",
    "- Tools for the specification of technical systems via the generation and analysis of mission profiles : [Application to collective urban transport such as tram, trolleybus, bus](./01a_CaseStudy_specification.ipynb)\n",
    "- Models and methods for presizing : Application to the sizing of a [battery/ultracapacitor packs](02b_Architecture_Hybrid.ipynb) \n",
    "- Estimation models for the sizing of a DC-DC converter: [scaling laws](04_ScalingLaws-Student.ipynb), [linear regression](05_HeatsinkLinearRegression-Student.ipynb), [surrogate models](07_SizingCodeInductor-Surrogate-Student.ipynb)\n",
    "- Sizing code of a DC-DC converter : [inductor](06_SizingCodeInductor.ipynb) and [global converter](09_SizingCodeDCDCconverter.ipynb)\n",
    "- Life cycle assesment [LCA of DC-DC converter]().\n",
    "\n",
    "Course outline for power electronics students:\n",
    "- [Case study presentation](./01a_CaseStudy.ipynb)\n",
    "- Architecture description and sizing for a full [ultracapacitor application](02a_Architecture-Student.ipynb)\n",
    "- Estimation models for the sizing of a DC-DC converter: [scaling laws](04_ScalingLaws-Student.ipynb), [linear regression](05_HeatsinkLinearRegression-Student.ipynb), [surrogate models](07_SizingCodeInductor-Surrogate-Student.ipynb)\n",
    "- Sizing code of a DC-DC converter : [inductor](06_SizingCodeInductor.ipynb) and [global converter](09_SizingCodeDCDCconverter.ipynb)"
   ]
  },
  {
   "cell_type": "markdown",
   "metadata": {},
   "source": [
    "### Homework\n",
    "\n",
    "> **Homework 1:** Test your knowledge on this [Quiz](https://quizanthropocene.fr/quiz/75): dedicated to the energy transition in transport\n",
    "\n",
    "> **Homework 2:** Read chapter 4 of [A. Bigo thesis](http://www.chair-energy-prosperity.org/wp-content/uploads/2019/01/These-Aurelien-Bigo.pdf) and propose a product/system to reduce the CO2 impact of transport. Explain what are the lever(s) used by this solution."
   ]
  },
  {
   "cell_type": "code",
   "execution_count": null,
   "metadata": {},
   "outputs": [],
   "source": []
  }
 ],
 "metadata": {
  "kernelspec": {
   "display_name": "Python 3 (ipykernel)",
   "language": "python",
   "name": "python3"
  },
  "language_info": {
   "codemirror_mode": {
    "name": "ipython",
    "version": 3
   },
   "file_extension": ".py",
   "mimetype": "text/x-python",
   "name": "python",
   "nbconvert_exporter": "python",
   "pygments_lexer": "ipython3",
   "version": "3.9.13"
  }
 },
 "nbformat": 4,
 "nbformat_minor": 4
}
