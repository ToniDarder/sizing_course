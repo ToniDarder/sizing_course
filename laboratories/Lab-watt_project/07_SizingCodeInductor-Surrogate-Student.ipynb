{
 "cells": [
  {
   "cell_type": "markdown",
   "metadata": {
    "slideshow": {
     "slide_type": "slide"
    }
   },
   "source": [
    "# Sizing code of an inductor with surrogate models\n",
    "*Written by Marc Budinger, INSA Toulouse, France*"
   ]
  },
  {
   "cell_type": "markdown",
   "metadata": {},
   "source": [
    "The previous study showed some shortcomings such as not taking into account the thermal and a limitation on the dimensions of the air gap. We will see here how to set up surrogate models from thermal or magnetic finite element simulations.  \n",
    "  "
   ]
  },
  {
   "cell_type": "markdown",
   "metadata": {},
   "source": [
    "## Thermal configuration description\n",
    "\n",
    "In the previous notebook, the current density $J$ was imposed. It would be more accurate to calculate the temperature of the hot point of the winding and adjust the value of this current density to limit, for example at 150 ° C, this temperature. The cooling architecture of the various components of the converter takes the following form in this study:\n",
    "\n",
    "![ArchiThermic](https://raw.githubusercontent.com/SizingLab/sizing_course/main/laboratories/Lab-watt_project/assets/images/ThermalArchitecture.png)\n",
    "\n",
    "In order to carry out finite element simulations in 2D, we will work on a P-type core which presents a symmetry of revolution.\n",
    "\n",
    "![PotCore](https://raw.githubusercontent.com/SizingLab/sizing_course/main/laboratories/Lab-watt_project/assets/images/PotCore.png)\n",
    "\n",
    "Other forms of ferrite cores can be found [here](https://www.ferroxcube.com).\n",
    "\n",
    "We will assume here to calculate the temperature of the hot spot of the winding:\n",
    "- that temparature of the pot base is fixed\n",
    "- that the convective heat transfer is negligible\n",
    "- that the winding can be represented by an equivalent thermal conductivity\n",
    "\n",
    "![HotSpotInducteurFEM](https://raw.githubusercontent.com/SizingLab/sizing_course/main/laboratories/Lab-watt_project/assets/images/HotSpotInducteurFEM.png)\n",
    "\n",
    "The following table shows some simulation results for different materials configurations and the same level of loss (36W into the coil, 100 mm for the external diameter of the core, 1 mm of airgap). These simulations show that the heat transfer can be optimized in a technological way. We will use  the configuration (3), the most effective, for next calculations.\n",
    "\n",
    "|   Central Axis     | Airgap  | Hot spot Temperature |\n",
    "| -------------- | --------------| -----------|\n",
    "| Air | Air       | 122 °C            |\n",
    "| Air | Resin   | 90 °C |\n",
    "| Aluminum   | Resin  | 61 °C | \n",
    "\n"
   ]
  },
  {
   "cell_type": "markdown",
   "metadata": {},
   "source": [
    "## Buckingham theorem and dimensional analysis \n",
    "\n",
    "FEM simulations can take computational time not compatible with design optimization and design space exploration. One way of reducing this computational time is by constructing approximation models, known as [surrogate models](https://en.wikipedia.org/wiki/Surrogate_model), response surface models or metamodels.  \n",
    "In order to reduce the number of variables to manipulate during analysises, dimensional analysis and the [Buckinghma theorem](https://en.wikipedia.org/wiki/Buckingham_%CF%80_theorem) can be used. \n",
    "\n",
    "We want to find a surrogate model which enable to caculate the thermal resistance between the hot spot of the coil and the support of the core:  \n",
    "$R_{th}=f(D,e,...,\\lambda_{eq},\\lambda_{ferrite},...)$\n",
    "with:  \n",
    "- $D,e,...$ : the diameter of the pot core, the airgap thickness, other geometrical dimensions. Ferrites cores follow geometrical similarities except for the airgap.\n",
    "- $\\lambda_{eq},\\lambda_{ferrite},...$ : the equivalent thermal conductivity of the coil and the other thermal conductivities.\n",
    "\n",
    "> Exercice 1: reduce the number of variables to manipulate with the Buckinghma theorem. Give expression of $/pi$ numbers.\n",
    "\n"
   ]
  },
  {
   "cell_type": "markdown",
   "metadata": {},
   "source": [
    "> Exercice 2: Justify your dimensional analysis with the following FEMM results.\n",
    "\n",
    "|        | Diameter $D$  | Copper losses | Airgap $e$ | Eequivalent thermal conductivity (coil)| Temperature difference $\\Delta \\Teta$  | \n",
    "| -------------- | --------------| -----------| -----------| -----------| -----------|\n",
    "| 1 | 100 mm       | 36 W            | 1 mm | 0.5 W/(mK) | 61 °C |\n",
    "| 2 | 50 mm   | 4.5 W | 0.5 mm | 0.5 W/(mK) | 15.3 °C |\n",
    "| 3  | 50 mm  | 4.5 W | 0.5 mm | 1 W/(mK) | 12.9 °C |\n",
    "\n"
   ]
  },
  {
   "cell_type": "markdown",
   "metadata": {},
   "source": [
    "## Surface response model for the thermal resistance\n",
    "\n",
    "Multiple FEM simulations have been performed. The following file summurizes usefull data:"
   ]
  },
  {
   "cell_type": "code",
   "execution_count": 1,
   "metadata": {},
   "outputs": [
    {
     "data": {
      "text/html": [
       "<div>\n",
       "<style scoped>\n",
       "    .dataframe tbody tr th:only-of-type {\n",
       "        vertical-align: middle;\n",
       "    }\n",
       "\n",
       "    .dataframe tbody tr th {\n",
       "        vertical-align: top;\n",
       "    }\n",
       "\n",
       "    .dataframe thead th {\n",
       "        text-align: right;\n",
       "    }\n",
       "</style>\n",
       "<table border=\"1\" class=\"dataframe\">\n",
       "  <thead>\n",
       "    <tr style=\"text-align: right;\">\n",
       "      <th></th>\n",
       "      <th>D</th>\n",
       "      <th>Lambda</th>\n",
       "      <th>P</th>\n",
       "      <th>T</th>\n",
       "      <th>DT</th>\n",
       "      <th>Rth</th>\n",
       "      <th>PI0=Rth.Lambda.D</th>\n",
       "      <th>PI1=e/D</th>\n",
       "    </tr>\n",
       "  </thead>\n",
       "  <tbody>\n",
       "    <tr>\n",
       "      <th>0</th>\n",
       "      <td>0.1</td>\n",
       "      <td>0.5</td>\n",
       "      <td>35.852</td>\n",
       "      <td>356.15</td>\n",
       "      <td>56.15</td>\n",
       "      <td>1.566161</td>\n",
       "      <td>0.078308</td>\n",
       "      <td>0.001000</td>\n",
       "    </tr>\n",
       "    <tr>\n",
       "      <th>1</th>\n",
       "      <td>0.1</td>\n",
       "      <td>0.5</td>\n",
       "      <td>35.884</td>\n",
       "      <td>356.55</td>\n",
       "      <td>56.55</td>\n",
       "      <td>1.575911</td>\n",
       "      <td>0.078796</td>\n",
       "      <td>0.001585</td>\n",
       "    </tr>\n",
       "    <tr>\n",
       "      <th>2</th>\n",
       "      <td>0.1</td>\n",
       "      <td>0.5</td>\n",
       "      <td>35.935</td>\n",
       "      <td>357.16</td>\n",
       "      <td>57.16</td>\n",
       "      <td>1.590650</td>\n",
       "      <td>0.079532</td>\n",
       "      <td>0.002512</td>\n",
       "    </tr>\n",
       "    <tr>\n",
       "      <th>3</th>\n",
       "      <td>0.1</td>\n",
       "      <td>0.5</td>\n",
       "      <td>36.016</td>\n",
       "      <td>358.06</td>\n",
       "      <td>58.06</td>\n",
       "      <td>1.612061</td>\n",
       "      <td>0.080603</td>\n",
       "      <td>0.003981</td>\n",
       "    </tr>\n",
       "    <tr>\n",
       "      <th>4</th>\n",
       "      <td>0.1</td>\n",
       "      <td>0.5</td>\n",
       "      <td>36.143</td>\n",
       "      <td>359.38</td>\n",
       "      <td>59.38</td>\n",
       "      <td>1.642918</td>\n",
       "      <td>0.082146</td>\n",
       "      <td>0.006310</td>\n",
       "    </tr>\n",
       "  </tbody>\n",
       "</table>\n",
       "</div>"
      ],
      "text/plain": [
       "     D  Lambda       P       T     DT       Rth  PI0=Rth.Lambda.D   PI1=e/D\n",
       "0  0.1     0.5  35.852  356.15  56.15  1.566161          0.078308  0.001000\n",
       "1  0.1     0.5  35.884  356.55  56.55  1.575911          0.078796  0.001585\n",
       "2  0.1     0.5  35.935  357.16  57.16  1.590650          0.079532  0.002512\n",
       "3  0.1     0.5  36.016  358.06  58.06  1.612061          0.080603  0.003981\n",
       "4  0.1     0.5  36.143  359.38  59.38  1.642918          0.082146  0.006310"
      ]
     },
     "execution_count": 1,
     "metadata": {},
     "output_type": "execute_result"
    }
   ],
   "source": [
    "# Import FEM thermal simulations results\n",
    "\n",
    "# Panda package Importation\n",
    "import pandas as pd\n",
    "\n",
    "# Read the .csv file with bearing data\n",
    "path='https://raw.githubusercontent.com/SizingLab/sizing_course/main/laboratories/Lab-watt_project/assets/data/'\n",
    "dHS = pd.read_csv(path+'InductorThermalSurrogate.csv', sep=';')\n",
    "\n",
    "# Print the head (first lines of the file)\n",
    "dHS.head()"
   ]
  },
  {
   "cell_type": "markdown",
   "metadata": {},
   "source": [
    "We want to perform here a linear regression to determine an estimation model of polynomial form.  \n",
    "\n",
    "> Exercice: Perform this multiple linear regression with the [StatsModels](https://www.statsmodels.org/stable/index.html) package and dedicated transformations.\n"
   ]
  },
  {
   "cell_type": "markdown",
   "metadata": {},
   "source": [
    "## Surrogate magnetic model for inductance\n",
    "The same approcach can be adopted for magnetic simulations. The model has to take in account the magnetic field in the airgap for small and big values, and using finite elements simulations the proportion of the magnetic field outside the magnetic circuit is also considered. These effects are not well modelled by classical analytic models.  \n",
    "The inductance is represented by the reluctance of the magnetic circuit $R_L$: $L=n^2/R_L$, where $L$ is the inductance, $n$ the number of turns.  \n",
    "Two assumptions are considered for the study:\n",
    "- The reluctance of the ferrite magnetic circuit is considered during the FEM simulation but neglected for the final expression.\n",
    "- The saturation effects are not considered.\n",
    "\n",
    "Regression on FEM simulation data with log transformation give the following expression:  \n",
    "$R_L=\\frac{3.86}{μ_0D}π_1^{0.344-0.226 log⁡(π_1)-0.0355 log⁡(π_1)}$  \n",
    ",where $π_1=e/D$.\n"
   ]
  },
  {
   "cell_type": "markdown",
   "metadata": {},
   "source": [
    "## Inductor sizing code\n",
    "\n",
    "> Exercice: adapt the sizing code of the previous notebook in order to take into account the 2 surrogate models."
   ]
  },
  {
   "cell_type": "code",
   "execution_count": 75,
   "metadata": {},
   "outputs": [],
   "source": [
    "import scipy\n",
    "import scipy.optimize\n",
    "from math import pi, sqrt\n",
    "import timeit\n",
    "\n",
    "# Specifications\n",
    "IL_max=150 # [A] max current\n",
    "IL_RMS=140 # [A] RMS current\n",
    "L=150e-6 # [H] Inductance\n",
    " \n",
    "# Assumptions\n",
    "#J=5e6 # [A/m²] Current density\n",
    "B_mag=0.4 # [T] Induction\n",
    "k_bob=0.33 # [-] winding coefficient\n",
    "T_amb=60 # [°C] Support temperature\n",
    "T_max=150 # [°C] Max temperature\n",
    "\n",
    "# Physical constants\n",
    "mu_0=4*3.14e-7 # [SI] permeability\n",
    "\n",
    "# Reference parameters for scaling laws (Pot core)\n",
    "\n",
    "D_ref=66.29e-3 # [m] External diameter\n",
    "H_ref=57.3e-3/2 # [m] 1 half core height\n",
    "\n",
    "Airon_ref=pi/4*(29.19**2-6.5**2)*1e-6    # [m^2] iron surface\n",
    "Awind_ref=43.28*(54.51-28.19)/2*1e-6    # [m^2] winding surface\n",
    "Rmoy_ref=(54.51-28.19)/2*1e-3 # [m] Mean radius for winding\n",
    "\n",
    "M_ref=225e-3  # [kg] 1 half core mass\n",
    "\n",
    "\n",
    "# -----------------------\n",
    "# sizing code\n",
    "# -----------------------\n",
    "# inputs: \n",
    "# - param: optimisation variables vector \n",
    "# - arg: selection of output  \n",
    "# output: \n",
    "# - objective if arg='Obj', problem characteristics if arg='Prt', constraints other else\n",
    "\n",
    "def SizingCode(param, arg):\n",
    "    # student work ...\n",
    "    \n",
    "    \n",
    "    # Objective and contraints\n",
    "    if arg=='Obj':\n",
    "        return M_total\n",
    "    elif arg=='Prt':\n",
    "        print(\"* Optimisation variables:\")\n",
    "        print(\"           Airgap e/D = %.2g\"% (e_D))\n",
    "        print(\"           Current dendity J = %.2g\"% (J))\n",
    "        print(\"* Components characteristics:\")\n",
    "        print(\"           Core (2) mass = %.2f kg\" % (2*M_core))\n",
    "        print(\"           Coil mass = %.2f kg\" % M_copper)\n",
    "        print(\"           Core dimensions = %.1f (diameter) x %.1f (heigth) mm\"%((D*1e3,2*H*1e3)))\n",
    "        print(\"           Airgap e = %.1f mm\"%(e_D*D*1e3))\n",
    "        print(\"           A_iron = %.0f mm^2\"%(A_iron*1e6))\n",
    "        print(\"           Number of turns = %i\"%(N))\n",
    "        print(\"* Constraints (should be >0):\")\n",
    "        print(\"           Winding  surface margin = %.3f mm²\" % ((A_wind-S_bob)*1e6))\n",
    "        print(\"           Induction margin = %.3f T\" %((B_mag-B)))\n",
    "        print(\"           Temperature margin = %.3f K\" %(T_max-Teta_hot))\n",
    "    else:\n",
    "        return [A_wind-S_bob, B_mag-B, T_max-Teta_hot]"
   ]
  },
  {
   "cell_type": "code",
   "execution_count": 1,
   "metadata": {},
   "outputs": [
    {
     "ename": "NameError",
     "evalue": "name 'scipy' is not defined",
     "output_type": "error",
     "traceback": [
      "\u001b[1;31m---------------------------------------------------------------------------\u001b[0m",
      "\u001b[1;31mNameError\u001b[0m                                 Traceback (most recent call last)",
      "\u001b[1;32m<ipython-input-1-44c9f5f1fbfe>\u001b[0m in \u001b[0;36m<module>\u001b[1;34m()\u001b[0m\n\u001b[0;32m      6\u001b[0m \u001b[1;31m# Vector of parameters\u001b[0m\u001b[1;33m\u001b[0m\u001b[1;33m\u001b[0m\u001b[0m\n\u001b[0;32m      7\u001b[0m \u001b[1;33m\u001b[0m\u001b[0m\n\u001b[1;32m----> 8\u001b[1;33m \u001b[0mparameters\u001b[0m \u001b[1;33m=\u001b[0m \u001b[0mscipy\u001b[0m\u001b[1;33m.\u001b[0m\u001b[0marray\u001b[0m\u001b[1;33m(\u001b[0m\u001b[1;33m(\u001b[0m\u001b[0me_D\u001b[0m\u001b[1;33m,\u001b[0m\u001b[0mJ\u001b[0m\u001b[1;33m)\u001b[0m\u001b[1;33m)\u001b[0m\u001b[1;33m\u001b[0m\u001b[0m\n\u001b[0m\u001b[0;32m      9\u001b[0m \u001b[1;33m\u001b[0m\u001b[0m\n\u001b[0;32m     10\u001b[0m \u001b[1;31m# Initial characteristics before optimization\u001b[0m\u001b[1;33m\u001b[0m\u001b[1;33m\u001b[0m\u001b[0m\n",
      "\u001b[1;31mNameError\u001b[0m: name 'scipy' is not defined"
     ]
    }
   ],
   "source": [
    "#Variables d'optimisation\n",
    "e_D=1e-3 # [m] airgap\n",
    "J=50 # [A/mm²] current density\n",
    "\n",
    "\n",
    "# Vector of parameters\n",
    "\n",
    "parameters = scipy.array((e_D,J))\n",
    "\n",
    "# Initial characteristics before optimization \n",
    "print(\"-----------------------------------------------\")\n",
    "print(\"Initial characteristics before optimization :\")\n",
    "\n",
    "SizingCode(parameters, 'Prt')\n",
    "print(\"-----------------------------------------------\")\n",
    "\n",
    "# optimization with SLSQP algorithm\n",
    "contrainte=lambda x: SizingCode(x, 'Const')\n",
    "objectif=lambda x: SizingCode(x, 'Obj')\n",
    "result = scipy.optimize.fmin_slsqp(func=objectif, x0=parameters, \n",
    "                                   bounds=[(1e-3,1e-1),(1,50)],\n",
    "                                   f_ieqcons=contrainte, iter=100, acc=1e-12)\n",
    "\n",
    "# Final characteristics after optimization \n",
    "print(\"-----------------------------------------------\")\n",
    "print(\"Final characteristics after optimization :\")\n",
    "\n",
    "SizingCode(result, 'Prt')\n",
    "print(\"-----------------------------------------------\")\n"
   ]
  },
  {
   "cell_type": "markdown",
   "metadata": {},
   "source": [
    "## Annex : thermal conductivity \n",
    "\n",
    "|   Material    | Thermal conductivity |\n",
    "| -------------- | --------------|\n",
    "| Copper | 400 W/(mK)            |\n",
    "| Aluminum  | 200 W/(mK) |\n",
    "| Air   | 0.03 W/(mK) | \n",
    "| Ferrite   | 5 W/(mK) | \n",
    "| Resin   | 0.25 W/(mK) |\n",
    "| Copper+Resin(*)   | 0.5 W/(mK) | \n",
    "\n",
    "(*) for a mix of 33% copper, 66% resin\n"
   ]
  }
 ],
 "metadata": {
  "celltoolbar": "Slideshow",
  "kernelspec": {
   "display_name": "Python 3 (ipykernel)",
   "language": "python",
   "name": "python3"
  },
  "language_info": {
   "codemirror_mode": {
    "name": "ipython",
    "version": 3
   },
   "file_extension": ".py",
   "mimetype": "text/x-python",
   "name": "python",
   "nbconvert_exporter": "python",
   "pygments_lexer": "ipython3",
   "version": "3.8.13"
  }
 },
 "nbformat": 4,
 "nbformat_minor": 4
}
