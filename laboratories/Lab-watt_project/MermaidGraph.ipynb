{
 "cells": [
  {
   "cell_type": "markdown",
   "id": "e7866f53",
   "metadata": {},
   "source": [
    "graph TD\n",
    "    A[Objective = Minimize total mass] ---|Influence by| B(Heatsink mass)\n",
    "    A ---|Influence by| C(Filter mass)\n",
    "    B ---|Influence by| D[Component losses]\n",
    "    C ---|Influence by| E[Switching frequency]\n",
    "\n"
   ]
  }
 ],
 "metadata": {
  "kernelspec": {
   "display_name": "Python 3 (ipykernel)",
   "language": "python",
   "name": "python3"
  },
  "language_info": {
   "codemirror_mode": {
    "name": "ipython",
    "version": 3
   },
   "file_extension": ".py",
   "mimetype": "text/x-python",
   "name": "python",
   "nbconvert_exporter": "python",
   "pygments_lexer": "ipython3",
   "version": "3.8.13"
  }
 },
 "nbformat": 4,
 "nbformat_minor": 5
}
