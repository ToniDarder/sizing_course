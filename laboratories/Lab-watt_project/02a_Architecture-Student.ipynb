{
 "cells": [
  {
   "cell_type": "markdown",
   "metadata": {},
   "source": [
    "# Architecture of the converter and sizing scenarios (Student version)\n",
    "\n",
    "*Written by Marc Budinger, INSA Toulouse, France*\n",
    "\n",
    "Before sizing a system, it is important to define all the constraints that could have an influence on the design. It is therefore advisable to list meticulously:\n",
    "- the power components to size in the architecture \n",
    "- criteria and parameters useful for the selection of components \n",
    "- system usage scenarios that can \"activate\" these sizing scenarios \n"
   ]
  },
  {
   "cell_type": "markdown",
   "metadata": {},
   "source": [
    "### Watt System\n",
    "\n",
    "The [WATT system](http://www.pvi.fr/wattsystem-watt-system,172.html) includes:\n",
    "- In the bus: a battery pack and a ultra capacitors pack associated with an electric power train, a connection system, an automatic arm, installed on the roof of the vehicle\n",
    "- On the sidewalk: a charging station or \"totem\" with the connection, as well as a pack of super capacitors, all integrated in the urban landscape.\n",
    "\n",
    "Each totem (or charging station) is connected to the household electricity distribution network and allows charging between the passage of each bus. There is no need for specific equipment (substation, transformer).\n",
    "In operation the bus is powered by supercapacitors, it travels the necessary distance to the next stop, thanks to the energy stored.\n",
    "At each stop, the arm deploys and realizes in 10 seconds the transfer of energy between the super capacitors of the totem and the super capacitors onboard the bus.\n",
    "An adapted Lithium-ion battery pack is installed in the bus for cases of impossibility of connection and trips without passengers.\n",
    "\n",
    "*Ultracapacitor Pack and Totem*\n",
    "![PositionPacks](https://raw.githubusercontent.com/SizingLab/sizing_course/main/laboratories/Lab-watt_project/assets/images/PositionPacks.png)\n"
   ]
  },
  {
   "cell_type": "markdown",
   "metadata": {},
   "source": [
    "### Ultracapacitors modules selection\n",
    "\n",
    "In order to estimate the dimensions of the ultracapacities pack, we will be interested in the energy to be supplied to the motorization of the bus on a typical path:\n",
    "- top speed $v_{max}$ = 30 km/h\n",
    "- distance between 2 totems $d$ = 800 m\n",
    "- maximum height difference $h$ = 3 m\n",
    "\n",
    "The bus has the following characteristics:\n",
    "- mass with passengers $m$ = 20 t\n",
    "- [Rolling coefficient](http://en.wikipedia.org/wiki/Rolling_resistance) tires $C_{rr} = 0.01$\n",
    "\n",
    "Aerodynamic effect are assume here to be negligeable dur to low speed of the bus.\n",
    "\n",
    " > Exercice: Complete this notebook with the equations enabling to calculate the maximum energy to supply (and to store) to the electrical power train. Use for that markdown ([here](https://www.markdowntutorial.com/) a markdown tutorial and [here](https://guides.github.com/features/mastering-markdown/) a quick introduction) and Latex notation (between \"$\")."
   ]
  },
  {
   "cell_type": "code",
   "execution_count": null,
   "metadata": {},
   "outputs": [],
   "source": []
  },
  {
   "cell_type": "markdown",
   "metadata": {},
   "source": [
    "> Exercice: Calculate (with python) the maximum energy to supply (and to store) to the electrical power train."
   ]
  },
  {
   "cell_type": "code",
   "execution_count": 1,
   "metadata": {},
   "outputs": [],
   "source": [
    "# Parameters\n",
    "v_max=30*1000/3600 # [m/s] max speed\n",
    "m=20e3 # [kg] bus mass\n",
    "d=800. # [m] distance\n",
    "h=3. # [m] rise height\n",
    "C_rr= 0.01 # [-] tyre rolling coef\n",
    "g=9.81 # [m/s²] gravity acceleration\n",
    "\n",
    "# Energies & works calculations\n",
    "\n"
   ]
  },
  {
   "cell_type": "markdown",
   "metadata": {},
   "source": [
    "We will take as ultra-capacitor reference  the following [module](http://www.maxwell.com/products/ultracapacitors/125v-tran-modules) from [Maxwell Technologies](http://www.maxwell.com). \n",
    "\n",
    "*Maxwell module characteristics*\n",
    "![MaxwellModule](https://raw.githubusercontent.com/SizingLab/sizing_course/main/laboratories/Lab-watt_project/assets/images/MaxwellModule.png)\n",
    "\n",
    "> Exercice: Explain and calculate with python the minimum number of modules  assuming that the minimum operating voltage will be equal to $V_{max}/2$."
   ]
  },
  {
   "cell_type": "code",
   "execution_count": null,
   "metadata": {},
   "outputs": [],
   "source": [
    "import math\n",
    "\n",
    "# Maxwell module characteristics\n",
    "V_max=125. # [V] Max voltage\n",
    "C=63. # [F] Module capacitance\n",
    "\n",
    "# Modules number calculation\n",
    "V_min=V_max/2\n"
   ]
  },
  {
   "cell_type": "markdown",
   "metadata": {},
   "source": [
    "### DC/DC converter architecture"
   ]
  },
  {
   "cell_type": "markdown",
   "metadata": {},
   "source": [
    "We now assume that each ultracapacity module will be connected to the main DC bus of the bus by a dedicated DC / DC converter. This converter will be responsible for managing the charge and the discharge of the module. The rest of the work will try to size this DC/DC converter.\n",
    "We will represent first here the Work Breakdown Structure of the Watt system (bus) with the equipment (DC/DC converter) to be design. \n",
    "\n",
    "Remark: following diagrams have been developed with the [Mermaid live editor](https://mermaid.live)\n",
    "\n",
    "![WBS](https://raw.githubusercontent.com/SizingLab/sizing_course/main/laboratories/Lab-watt_project/assets/images/Mermaid_WBS.svg)"
   ]
  },
  {
   "cell_type": "markdown",
   "metadata": {},
   "source": [
    "The function of the DC/DC converter is to adapt the voltage between the DC bus and the ultracapacitor module. The following figures illustrates the main components of this converter.\n",
    "\n",
    "*DC/DC converter components*\n",
    "![DCDCconverter_components](https://raw.githubusercontent.com/SizingLab/sizing_course/main/laboratories/Lab-watt_project/assets/images/DCDCconverter_components.png)\n",
    "\n",
    "*DC/DC converter diagram*\n",
    "![DCDCconverter_diagram](https://raw.githubusercontent.com/SizingLab/sizing_course/main/laboratories/Lab-watt_project/assets/images/DCDCconverter_diagram.png)\n",
    "\n",
    "The inductor enables to limit the current ripple in the load (here the ultracapcitor). The capacitor enables to limite the ripple voltage on the DC bus. "
   ]
  },
  {
   "cell_type": "markdown",
   "metadata": {},
   "source": [
    "## Design drivers\n",
    "\n",
    "\n",
    "\n",
    "\n"
   ]
  },
  {
   "cell_type": "markdown",
   "metadata": {},
   "source": [
    "We are going to determine here the possible reasons of the degradation in system’s components. These degration can be:\n",
    "- Fast and come from transient power demands (such as permanent deformation, rupture for mechanical components)\n",
    "- Gradual and come from continuous power demands which often reduce the component’s and therefore the system’s lifetime (such as mechanical fatigue for mechanical components)\n",
    "\n",
    "The component can also have imperfections which can increase the mechanical stresses on itself or other components.\n",
    "For example, the inertia of a electrical motor increases the torque this same motor has to deliver or can destroy mechanical component when a sudden stop occurs.\n",
    "\n",
    "We will complete the graph with possible sources of degradation of the components of the DC/DC converter.\n",
    "\n",
    "![DesignDrivers](https://raw.githubusercontent.com/SizingLab/sizing_course/main/laboratories/Lab-watt_project/assets/images/Mermaid_DesignDrivers.svg)\n"
   ]
  },
  {
   "cell_type": "markdown",
   "metadata": {},
   "source": [
    "### Sizing scenarios"
   ]
  },
  {
   "cell_type": "markdown",
   "metadata": {},
   "source": [
    "We have listed the different degradation risks for our application. Now we have to find the system uses which can create this degradation risks. \n",
    "\n",
    "> Exercice: Propose sizing scenarios for the different DC/DC converter components."
   ]
  },
  {
   "cell_type": "code",
   "execution_count": null,
   "metadata": {},
   "outputs": [],
   "source": []
  }
 ],
 "metadata": {
  "kernelspec": {
   "display_name": "Python 3 (ipykernel)",
   "language": "python",
   "name": "python3"
  },
  "language_info": {
   "codemirror_mode": {
    "name": "ipython",
    "version": 3
   },
   "file_extension": ".py",
   "mimetype": "text/x-python",
   "name": "python",
   "nbconvert_exporter": "python",
   "pygments_lexer": "ipython3",
   "version": "3.9.13"
  }
 },
 "nbformat": 4,
 "nbformat_minor": 4
}
