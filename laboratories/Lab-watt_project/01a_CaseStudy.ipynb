{
 "cells": [
  {
   "cell_type": "markdown",
   "metadata": {},
   "source": [
    "\n",
    "\n",
    "![Sizing Lab](https://raw.githubusercontent.com/SizingLab/sizing_course/main/laboratories/Lab-watt_project/assets/images/Baniere.png)"
   ]
  },
  {
   "cell_type": "markdown",
   "metadata": {},
   "source": [
    "# Case study presentation\n",
    "\n",
    "*Written by Marc Budinger, INSA Toulouse, France*\n",
    "\n",
    "The central case study of this course focuses on surface urban electric public transport."
   ]
  },
  {
   "cell_type": "markdown",
   "metadata": {},
   "source": [
    "### Vehicles and infrastructure\n",
    "\n",
    "Different types of surface urban electric vehicles exist: the tram, the trolley bus or the electric bus.\n",
    "\n",
    "![Vehicles](https://raw.githubusercontent.com/SizingLab/sizing_course/main/laboratories/Lab-watt_project/assets/images/Vehicules.png)\n",
    "\n",
    "They differ by their connection to the ground via tires or rails but also by the supply of energy via [catenary](https://fr.wikipedia.org/wiki/Cat%C3%A9naire) (or contact line), [power supply from the ground](https://fr.wikipedia.org/wiki/Alimentation_par_le_sol) (third rail), recharging stations (different technologies without or with contact). The possible combinations are numerous and have a significant influence on urban infrastructure, the cost of solutions and the speed of deployment of these solutions.\n",
    "\n",
    "![Infrastructure](https://raw.githubusercontent.com/SizingLab/sizing_course/main/laboratories/Lab-watt_project/assets/images/NRJLink.png)\n",
    "\n",
    "> Watch the following website and video and explain the potential benefits of these different solutions : [Volvo](https://www.volvobuses.com/fr/city-and-intercity/buses/volvo-7900-electric.html), [Siemens](https://www.youtube.com/watch?v=p_metalYs3Y).\n"
   ]
  },
  {
   "cell_type": "markdown",
   "metadata": {},
   "source": [
    "### Energy storage system for urban public vehicles\n",
    "\n",
    "Depending on the charging solution considered, by catenary, by charging at each stop or at the end of the line, the need for energy storage may vary. We find solutions with super capacities, battery or hybrid (batteries/super capacities).\n",
    "\n",
    "![Energy storage system](https://raw.githubusercontent.com/SizingLab/sizing_course/main/laboratories/Lab-watt_project/assets/images/NRJStorageIntro.png)\n",
    "\n",
    "#### A first example: the hybrid storage system of Siemens\n",
    "\n",
    "This case constitutes a fairly general solution by allowing the joint use of batteries and supercapacitors. This hybrid storage means makes it possible to manage traction energy when the vehicle is not powered by the catenary. These storage packs are connected to power supply networks and main CC bus through DC/DC converters. These converters allow to share the power supplied by the two energy sources.\n",
    "\n",
    "![EnPu](https://raw.githubusercontent.com/SizingLab/sizing_course/main/laboratories/Lab-watt_project/assets/images/SiemensEnPu.png)\n",
    "\n"
   ]
  },
  {
   "cell_type": "markdown",
   "metadata": {},
   "source": [
    "#### A second example  : the Watt system\n",
    "\n",
    "The [WATT system](http://www.pvi.fr) was an example of electric mobility used for airports with charging at each stop :\n",
    "- In the bus : a battery pack and a ultra capacitors pack associated with an electric power train, a connection system, an automatic arm installed on the roof of the vehicle\n",
    "- On the sidewalk: a charging station or \"totem\" with the connection, as well as a pack of super capacitors, all integrated in the urban landscape.\n",
    "\n",
    "The major innovation of WATT System was the boost charge of the vehicle which consists in carrying out a transfer of energy from the stopping post (Totem) to the vehicle during the time of exchange of passengers. WATT System makes it possible to overcome the limits imposed by battery electric vehicles in terms of autonomy and passenger capacity, while minimizing urban infrastructure and energy needs.\n",
    "\n",
    "Each totem (or charging station) is connected to the household electricity distribution network and allows charging between the passage of each bus. There is no need for specific equipment (substation, transformer).\n",
    "In operation the bus is powered by supercapacitors, it travels the necessary distance to the next stop, thanks to the energy stored.\n",
    "At each stop, the arm deploys and realizes in 10 seconds the transfer of energy between the super capacitors of the totem and the super capacitors onboard the bus.\n",
    "An adapted Lithium-ion battery pack is installed in the bus for cases of impossibility of connection and trips without passengers.\n",
    "\n",
    "*Boost charge with Ultra-Capacitors*  \n",
    "![BoosteCharge](https://raw.githubusercontent.com/SizingLab/sizing_course/main/laboratories/Lab-watt_project/assets/images/BoostCharge.png)\n",
    "\n",
    "*Totem*  \n",
    "![Totem](https://raw.githubusercontent.com/SizingLab/sizing_course/main/laboratories/Lab-watt_project/assets/images/Totem.png)\n",
    "\n",
    "The following two diagrams describe an example of possible converters and control loops for the system Watt. \n",
    "\n",
    "*Possible power converters for the Watt system*  \n",
    "![ConvertersBusTotem](https://raw.githubusercontent.com/SizingLab/sizing_course/main/laboratories/Lab-watt_project/assets/images/ConvertersBusTotem.png)\n",
    "\n",
    "*Possible control loops for ultracapacitors*\n",
    "![Control](https://raw.githubusercontent.com/SizingLab/sizing_course/main/laboratories/Lab-watt_project/assets/images/ControlCurrentVoltage.png)\n"
   ]
  },
  {
   "cell_type": "markdown",
   "metadata": {},
   "source": [
    "### Questions\n",
    "\n",
    "Using the following [FAQ about ultracapacitors](http://www.maxwell.com/images/documents/2014_maxwell_faqs.pdf) and your knowledge on power electronics converters, answer the following questions:\n",
    "1. What is the interest of the Watt system compared to battery energy storage ?  \n",
    "2. What is the main constraint of the Watt system compared to battery storage ?  \n",
    "3. What are the converters in the totem and what are their functions ?  \n",
    "4. What is the nature of the converter (B) ?  \n",
    "5. What is the nature of the converter (D) ?  \n",
    "6. What are the inductors function used for converters (B) and (C) ?  \n",
    "7. Explain the operation of the control loops during starting and braking of the bus.  \n",
    "\n",
    "\n",
    "\n",
    "\n"
   ]
  },
  {
   "cell_type": "markdown",
   "metadata": {},
   "source": [
    "### Homework\n",
    "\n",
    "Read the following papers:\n",
    "> Mwambeleko, J. J., Kulworawanichpong, T., & Greyson, K. A. (2015, October). Tram and trolleybus net traction energy consumption comparison. In 2015 18th International Conference on Electrical Machines and Systems (ICEMS) (pp. 2164-2169). IEEE. [[pdf](https://raw.githubusercontent.com/SizingLab/sizing_course/main/laboratories/Lab-watt_project/assets/papers/ProfilTramTrolleybus.pdf)]\n",
    "\n",
    "> Tian, Z., Zhao, N., Hillmansen, S., Roberts, C., Dowens, T., & Kerr, C. (2019). SmartDrive: Traction energy optimization and applications in rail systems. IEEE Transactions on Intelligent Transportation Systems, 20(7), 2764-2773. [[pdf](https://raw.githubusercontent.com/SizingLab/sizing_course/main/laboratories/Lab-watt_project/assets/papers/SmartDriveTractionEnergyOptimizationApplicationsRailSystems.pdf)]"
   ]
  }
 ],
 "metadata": {
  "kernelspec": {
   "display_name": "Python 3 (ipykernel)",
   "language": "python",
   "name": "python3"
  },
  "language_info": {
   "codemirror_mode": {
    "name": "ipython",
    "version": 3
   },
   "file_extension": ".py",
   "mimetype": "text/x-python",
   "name": "python",
   "nbconvert_exporter": "python",
   "pygments_lexer": "ipython3",
   "version": "3.9.13"
  }
 },
 "nbformat": 4,
 "nbformat_minor": 4
}
